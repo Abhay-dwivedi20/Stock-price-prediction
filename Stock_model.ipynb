{
 "cells": [
  {
   "cell_type": "code",
   "execution_count": 1,
   "id": "c230a5cc-d345-4935-9594-95c7eb166b8c",
   "metadata": {},
   "outputs": [],
   "source": [
    "# !pip install pandas_datareader\n"
   ]
  },
  {
   "cell_type": "code",
   "execution_count": 76,
   "id": "fbfe8325-f5a5-40c9-8448-42c3cbcc3336",
   "metadata": {},
   "outputs": [],
   "source": [
    "from dotenv import load_dotenv\n",
    "import os\n",
    "\n",
    "load_dotenv()\n",
    "key = os.getenv(\"API_KEY\")\n"
   ]
  },
  {
   "cell_type": "code",
   "execution_count": 77,
   "id": "e65d8a88-aad6-4c82-b588-a7c3940438cb",
   "metadata": {},
   "outputs": [],
   "source": [
    "import pandas_datareader.data as pdr #data collection"
   ]
  },
  {
   "cell_type": "code",
   "execution_count": 78,
   "id": "09baa553-4a70-4f20-a4f4-3fd11be539af",
   "metadata": {},
   "outputs": [],
   "source": [
    "df=pdr.get_data_tiingo('AAPL',api_key=key)"
   ]
  },
  {
   "cell_type": "code",
   "execution_count": 79,
   "id": "c5f1948b-7cbe-4ab5-b6ee-98a7062e1c26",
   "metadata": {},
   "outputs": [],
   "source": [
    "# df.to_csv('AAPL.csv')"
   ]
  },
  {
   "cell_type": "code",
   "execution_count": 80,
   "id": "81202471-0413-4dfe-a6a0-ac7cfd9ce920",
   "metadata": {},
   "outputs": [],
   "source": [
    "df1=df.reset_index()['close']"
   ]
  },
  {
   "cell_type": "code",
   "execution_count": 81,
   "id": "6cc5bfc0-7dbd-4533-940a-e604bc57a7f3",
   "metadata": {},
   "outputs": [
    {
     "data": {
      "text/plain": [
       "(1255,)"
      ]
     },
     "execution_count": 81,
     "metadata": {},
     "output_type": "execute_result"
    }
   ],
   "source": [
    "df1.shape"
   ]
  },
  {
   "cell_type": "code",
   "execution_count": 82,
   "id": "2ed93672-2455-49cf-b499-0ac7ec3985f7",
   "metadata": {},
   "outputs": [
    {
     "data": {
      "text/plain": [
       "0       388.00\n",
       "1       389.09\n",
       "2       371.38\n",
       "3       370.46\n",
       "4       379.24\n",
       "         ...  \n",
       "1250    208.62\n",
       "1251    209.11\n",
       "1252    210.16\n",
       "1253    210.02\n",
       "1254    211.18\n",
       "Name: close, Length: 1255, dtype: float64"
      ]
     },
     "execution_count": 82,
     "metadata": {},
     "output_type": "execute_result"
    }
   ],
   "source": [
    "df1"
   ]
  },
  {
   "cell_type": "code",
   "execution_count": 83,
   "id": "b8da6122-b8aa-41bd-ad28-f9a6804df6c3",
   "metadata": {},
   "outputs": [
    {
     "data": {
      "text/plain": [
       "[<matplotlib.lines.Line2D at 0x1dfb0fbed10>]"
      ]
     },
     "execution_count": 83,
     "metadata": {},
     "output_type": "execute_result"
    },
    {
     "data": {
      "image/png": "[encoded data removed]",
      "text/plain": [
       "<Figure size 640x480 with 1 Axes>"
      ]
     },
     "metadata": {},
     "output_type": "display_data"
    }
   ],
   "source": [
    "import matplotlib.pyplot as plt\n",
    "plt.plot(df1)"
   ]
  },
  {
   "cell_type": "code",
   "execution_count": 84,
   "id": "d02e9220-7f58-4e69-a0f5-e25f2986421f",
   "metadata": {},
   "outputs": [],
   "source": [
    "## LSTM are very sensitive to the scale of the data. so we apply minmax scaler"
   ]
  },
  {
   "cell_type": "code",
   "execution_count": 85,
   "id": "2c82e1b6-e65b-473c-a11d-9a4754b5a71b",
   "metadata": {},
   "outputs": [],
   "source": [
    "import numpy as np"
   ]
  },
  {
   "cell_type": "code",
   "execution_count": 86,
   "id": "570b9a9d-459e-4b80-91ee-7b035106fc3c",
   "metadata": {},
   "outputs": [],
   "source": [
    "from sklearn.preprocessing import MinMaxScaler\n",
    "scaler=MinMaxScaler(feature_range=(0,1))\n",
    "df1=scaler.fit_transform(np.array(df1).reshape(-1,1))"
   ]
  },
  {
   "cell_type": "code",
   "execution_count": 87,
   "id": "2aff959e-e731-44e9-aa35-f0a7bde747ee",
   "metadata": {},
   "outputs": [
    {
     "name": "stdout",
     "output_type": "stream",
     "text": [
      "Scaler saved successfully as 'my_scaler.pkl'\n"
     ]
    }
   ],
   "source": [
    "# --- ADD THIS LINE TO SAVE THE SCALER ---\n",
    "import joblib\n",
    "joblib.dump(scaler, 'my_scaler.pkl')\n",
    "print(\"Scaler saved successfully as 'my_scaler.pkl'\")"
   ]
  },
  {
   "cell_type": "code",
   "execution_count": 88,
   "id": "a0281bfa-2b29-47b4-b151-3d18fa9c2b96",
   "metadata": {},
   "outputs": [
    {
     "data": {
      "text/plain": [
       "(1255, 1)"
      ]
     },
     "execution_count": 88,
     "metadata": {},
     "output_type": "execute_result"
    }
   ],
   "source": [
    "df1.shape"
   ]
  },
  {
   "cell_type": "code",
   "execution_count": 89,
   "id": "65365a09-9007-46c5-933f-db8857c3ea04",
   "metadata": {},
   "outputs": [
    {
     "name": "stdout",
     "output_type": "stream",
     "text": [
      "[[0.70422041]\n",
      " [0.70695053]\n",
      " [0.66259236]\n",
      " ...\n",
      " [0.25878522]\n",
      " [0.25843456]\n",
      " [0.26134001]]\n"
     ]
    }
   ],
   "source": [
    "print(df1)"
   ]
  },
  {
   "cell_type": "code",
   "execution_count": 90,
   "id": "5697c4db-9583-463c-bb77-b6c669cdf333",
   "metadata": {},
   "outputs": [],
   "source": [
    "##splitting dataset into train and test split\n",
    "training_size=int(len(df1)*0.65) #65%\n",
    "test_size=len(df1)-training_size  #35%\n",
    "train_data,test_data=df1[0:training_size,:],df1[training_size:len(df1),:1]"
   ]
  },
  {
   "cell_type": "code",
   "execution_count": 91,
   "id": "c44ea709-2be6-49c0-b1f0-33dc5b4c0b7a",
   "metadata": {},
   "outputs": [
    {
     "data": {
      "text/plain": [
       "(815, 440)"
      ]
     },
     "execution_count": 91,
     "metadata": {},
     "output_type": "execute_result"
    }
   ],
   "source": [
    "training_size,test_size"
   ]
  },
  {
   "cell_type": "code",
   "execution_count": 92,
   "id": "7e20940e-c815-4647-9990-87473c754959",
   "metadata": {},
   "outputs": [],
   "source": [
    "import numpy\n",
    "# convert an array of values into a dataset matrix\n",
    "def create_dataset(dataset, time_step=1):\n",
    "\tdataX, dataY = [], []\n",
    "\tfor i in range(len(dataset)-time_step-1):\n",
    "\t\ta = dataset[i:(i+time_step), 0]   ###i=0, 0,1,2,3-----99   100 \n",
    "\t\tdataX.append(a)\n",
    "\t\tdataY.append(dataset[i + time_step, 0])\n",
    "\treturn numpy.array(dataX), numpy.array(dataY)"
   ]
  },
  {
   "cell_type": "code",
   "execution_count": 93,
   "id": "1b088e6e-e8cb-4d70-9e5e-3aadf546d63e",
   "metadata": {},
   "outputs": [],
   "source": [
    "# reshape into X=t,t+1,t+2,t+3 and Y=t+4\n",
    "time_step = 100\n",
    "X_train, y_train = create_dataset(train_data, time_step)\n",
    "X_test, ytest = create_dataset(test_data, time_step)"
   ]
  },
  {
   "cell_type": "code",
   "execution_count": 94,
   "id": "4e8fd31f-c2b2-4aa2-9a8a-eca95a4890a5",
   "metadata": {},
   "outputs": [
    {
     "name": "stdout",
     "output_type": "stream",
     "text": [
      "[[0.70422041 0.70695053 0.66259236 ... 0.04235441 0.04393237 0.03742016]\n",
      " [0.70695053 0.66259236 0.66028804 ... 0.04393237 0.03742016 0.04107702]\n",
      " [0.66259236 0.66028804 0.68227927 ... 0.03742016 0.04107702 0.03899812]\n",
      " ...\n",
      " [0.16493425 0.17084534 0.17112085 ... 0.17049468 0.17695679 0.18071384]\n",
      " [0.17084534 0.17112085 0.16871634 ... 0.17695679 0.18071384 0.17921102]\n",
      " [0.17112085 0.16871634 0.16210394 ... 0.18071384 0.17921102 0.18274264]]\n"
     ]
    }
   ],
   "source": [
    "print(X_train)"
   ]
  },
  {
   "cell_type": "code",
   "execution_count": 95,
   "id": "27a527bc-b97a-4542-8a77-529ad11a5208",
   "metadata": {},
   "outputs": [
    {
     "name": "stdout",
     "output_type": "stream",
     "text": [
      "(714, 100) \n",
      " (714,)\n"
     ]
    }
   ],
   "source": [
    "print(X_train.shape,\"\\n\",y_train.shape)"
   ]
  },
  {
   "cell_type": "code",
   "execution_count": 96,
   "id": "9b6a3bc9-71c9-46fd-88b9-9ce27f58996c",
   "metadata": {},
   "outputs": [
    {
     "name": "stdout",
     "output_type": "stream",
     "text": [
      "(339, 100) \n",
      " (339,)\n"
     ]
    }
   ],
   "source": [
    "print(X_test.shape,\"\\n\",ytest.shape)"
   ]
  },
  {
   "cell_type": "code",
   "execution_count": 97,
   "id": "87c89868-d80b-48b7-b3dc-d05b8933246b",
   "metadata": {},
   "outputs": [],
   "source": [
    "# reshape input to be [samples, time steps, features] which is required for LSTM\n",
    "X_train =X_train.reshape(X_train.shape[0],X_train.shape[1] , 1)\n",
    "X_test = X_test.reshape(X_test.shape[0],X_test.shape[1] , 1)"
   ]
  },
  {
   "cell_type": "code",
   "execution_count": 98,
   "id": "d1042c9f-0d2e-400b-ac54-6bcea8f4ba51",
   "metadata": {},
   "outputs": [],
   "source": [
    "### Create the Stacked LSTM model\n",
    "from tensorflow.keras.models import Sequential\n",
    "from tensorflow.keras.layers import Dense\n",
    "from tensorflow.keras.layers import LSTM"
   ]
  },
  {
   "cell_type": "code",
   "execution_count": 99,
   "id": "9b4e3fa1-c335-4d64-9da8-28a3a0c450b1",
   "metadata": {},
   "outputs": [
    {
     "name": "stderr",
     "output_type": "stream",
     "text": [
      "C:\\Users\\Lenovo\\Abhay_Everything\\Stock Price Prediction\\Stock Price project\\Stock-price-prediction\\venv\\lib\\site-packages\\keras\\src\\layers\\rnn\\rnn.py:199: UserWarning: Do not pass an `input_shape`/`input_dim` argument to a layer. When using Sequential models, prefer using an `Input(shape)` object as the first layer in the model instead.\n",
      "  super().__init__(**kwargs)\n"
     ]
    }
   ],
   "source": [
    "model=Sequential()\n",
    "model.add(LSTM(50,return_sequences=True,input_shape=(100,1)))\n",
    "model.add(LSTM(50,return_sequences=True))\n",
    "model.add(LSTM(50))\n",
    "model.add(Dense(1))\n",
    "model.compile(loss='mean_squared_error',optimizer='adam')"
   ]
  },
  {
   "cell_type": "code",
   "execution_count": 100,
   "id": "8f1e9a69-65d1-464c-b18f-2c2ba5e8e4f5",
   "metadata": {},
   "outputs": [
    {
     "data": {
      "text/html": [
       "<pre style=\"white-space:pre;overflow-x:auto;line-height:normal;font-family:Menlo,'DejaVu Sans Mono',consolas,'Courier New',monospace\"><span style=\"font-weight: bold\">Model: \"sequential_2\"</span>\n",
       "</pre>\n"
      ],
      "text/plain": [
       "\u001b[1mModel: \"sequential_2\"\u001b[0m\n"
      ]
     },
     "metadata": {},
     "output_type": "display_data"
    },
    {
     "data": {
      "text/html": [
       "<pre style=\"white-space:pre;overflow-x:auto;line-height:normal;font-family:Menlo,'DejaVu Sans Mono',consolas,'Courier New',monospace\">┏━━━━━━━━━━━━━━━━━━━━━━━━━━━━━━━━━━━━━━┳━━━━━━━━━━━━━━━━━━━━━━━━━━━━━┳━━━━━━━━━━━━━━━━━┓\n",
       "┃<span style=\"font-weight: bold\"> Layer (type)                         </span>┃<span style=\"font-weight: bold\"> Output Shape                </span>┃<span style=\"font-weight: bold\">         Param # </span>┃\n",
       "┡━━━━━━━━━━━━━━━━━━━━━━━━━━━━━━━━━━━━━━╇━━━━━━━━━━━━━━━━━━━━━━━━━━━━━╇━━━━━━━━━━━━━━━━━┩\n",
       "│ lstm_6 (<span style=\"color: #0087ff; text-decoration-color: #0087ff\">LSTM</span>)                        │ (<span style=\"color: #00d7ff; text-decoration-color: #00d7ff\">None</span>, <span style=\"color: #00af00; text-decoration-color: #00af00\">100</span>, <span style=\"color: #00af00; text-decoration-color: #00af00\">50</span>)             │          <span style=\"color: #00af00; text-decoration-color: #00af00\">10,400</span> │\n",
       "├──────────────────────────────────────┼─────────────────────────────┼─────────────────┤\n",
       "│ lstm_7 (<span style=\"color: #0087ff; text-decoration-color: #0087ff\">LSTM</span>)                        │ (<span style=\"color: #00d7ff; text-decoration-color: #00d7ff\">None</span>, <span style=\"color: #00af00; text-decoration-color: #00af00\">100</span>, <span style=\"color: #00af00; text-decoration-color: #00af00\">50</span>)             │          <span style=\"color: #00af00; text-decoration-color: #00af00\">20,200</span> │\n",
       "├──────────────────────────────────────┼─────────────────────────────┼─────────────────┤\n",
       "│ lstm_8 (<span style=\"color: #0087ff; text-decoration-color: #0087ff\">LSTM</span>)                        │ (<span style=\"color: #00d7ff; text-decoration-color: #00d7ff\">None</span>, <span style=\"color: #00af00; text-decoration-color: #00af00\">50</span>)                  │          <span style=\"color: #00af00; text-decoration-color: #00af00\">20,200</span> │\n",
       "├──────────────────────────────────────┼─────────────────────────────┼─────────────────┤\n",
       "│ dense_2 (<span style=\"color: #0087ff; text-decoration-color: #0087ff\">Dense</span>)                      │ (<span style=\"color: #00d7ff; text-decoration-color: #00d7ff\">None</span>, <span style=\"color: #00af00; text-decoration-color: #00af00\">1</span>)                   │              <span style=\"color: #00af00; text-decoration-color: #00af00\">51</span> │\n",
       "└──────────────────────────────────────┴─────────────────────────────┴─────────────────┘\n",
       "</pre>\n"
      ],
      "text/plain": [
       "┏━━━━━━━━━━━━━━━━━━━━━━━━━━━━━━━━━━━━━━┳━━━━━━━━━━━━━━━━━━━━━━━━━━━━━┳━━━━━━━━━━━━━━━━━┓\n",
       "┃\u001b[1m \u001b[0m\u001b[1mLayer (type)                        \u001b[0m\u001b[1m \u001b[0m┃\u001b[1m \u001b[0m\u001b[1mOutput Shape               \u001b[0m\u001b[1m \u001b[0m┃\u001b[1m \u001b[0m\u001b[1m        Param #\u001b[0m\u001b[1m \u001b[0m┃\n",
       "┡━━━━━━━━━━━━━━━━━━━━━━━━━━━━━━━━━━━━━━╇━━━━━━━━━━━━━━━━━━━━━━━━━━━━━╇━━━━━━━━━━━━━━━━━┩\n",
       "│ lstm_6 (\u001b[38;5;33mLSTM\u001b[0m)                        │ (\u001b[38;5;45mNone\u001b[0m, \u001b[38;5;34m100\u001b[0m, \u001b[38;5;34m50\u001b[0m)             │          \u001b[38;5;34m10,400\u001b[0m │\n",
       "├──────────────────────────────────────┼─────────────────────────────┼─────────────────┤\n",
       "│ lstm_7 (\u001b[38;5;33mLSTM\u001b[0m)                        │ (\u001b[38;5;45mNone\u001b[0m, \u001b[38;5;34m100\u001b[0m, \u001b[38;5;34m50\u001b[0m)             │          \u001b[38;5;34m20,200\u001b[0m │\n",
       "├──────────────────────────────────────┼─────────────────────────────┼─────────────────┤\n",
       "│ lstm_8 (\u001b[38;5;33mLSTM\u001b[0m)                        │ (\u001b[38;5;45mNone\u001b[0m, \u001b[38;5;34m50\u001b[0m)                  │          \u001b[38;5;34m20,200\u001b[0m │\n",
       "├──────────────────────────────────────┼─────────────────────────────┼─────────────────┤\n",
       "│ dense_2 (\u001b[38;5;33mDense\u001b[0m)                      │ (\u001b[38;5;45mNone\u001b[0m, \u001b[38;5;34m1\u001b[0m)                   │              \u001b[38;5;34m51\u001b[0m │\n",
       "└──────────────────────────────────────┴─────────────────────────────┴─────────────────┘\n"
      ]
     },
     "metadata": {},
     "output_type": "display_data"
    },
    {
     "data": {
      "text/html": [
       "<pre style=\"white-space:pre;overflow-x:auto;line-height:normal;font-family:Menlo,'DejaVu Sans Mono',consolas,'Courier New',monospace\"><span style=\"font-weight: bold\"> Total params: </span><span style=\"color: #00af00; text-decoration-color: #00af00\">50,851</span> (198.64 KB)\n",
       "</pre>\n"
      ],
      "text/plain": [
       "\u001b[1m Total params: \u001b[0m\u001b[38;5;34m50,851\u001b[0m (198.64 KB)\n"
      ]
     },
     "metadata": {},
     "output_type": "display_data"
    },
    {
     "data": {
      "text/html": [
       "<pre style=\"white-space:pre;overflow-x:auto;line-height:normal;font-family:Menlo,'DejaVu Sans Mono',consolas,'Courier New',monospace\"><span style=\"font-weight: bold\"> Trainable params: </span><span style=\"color: #00af00; text-decoration-color: #00af00\">50,851</span> (198.64 KB)\n",
       "</pre>\n"
      ],
      "text/plain": [
       "\u001b[1m Trainable params: \u001b[0m\u001b[38;5;34m50,851\u001b[0m (198.64 KB)\n"
      ]
     },
     "metadata": {},
     "output_type": "display_data"
    },
    {
     "data": {
      "text/html": [
       "<pre style=\"white-space:pre;overflow-x:auto;line-height:normal;font-family:Menlo,'DejaVu Sans Mono',consolas,'Courier New',monospace\"><span style=\"font-weight: bold\"> Non-trainable params: </span><span style=\"color: #00af00; text-decoration-color: #00af00\">0</span> (0.00 B)\n",
       "</pre>\n"
      ],
      "text/plain": [
       "\u001b[1m Non-trainable params: \u001b[0m\u001b[38;5;34m0\u001b[0m (0.00 B)\n"
      ]
     },
     "metadata": {},
     "output_type": "display_data"
    }
   ],
   "source": [
    "model.summary()"
   ]
  },
  {
   "cell_type": "code",
   "execution_count": 101,
   "id": "0d050103-3949-402e-bc0c-076119ef5234",
   "metadata": {},
   "outputs": [
    {
     "data": {
      "text/html": [
       "<pre style=\"white-space:pre;overflow-x:auto;line-height:normal;font-family:Menlo,'DejaVu Sans Mono',consolas,'Courier New',monospace\"><span style=\"font-weight: bold\">Model: \"sequential_2\"</span>\n",
       "</pre>\n"
      ],
      "text/plain": [
       "\u001b[1mModel: \"sequential_2\"\u001b[0m\n"
      ]
     },
     "metadata": {},
     "output_type": "display_data"
    },
    {
     "data": {
      "text/html": [
       "<pre style=\"white-space:pre;overflow-x:auto;line-height:normal;font-family:Menlo,'DejaVu Sans Mono',consolas,'Courier New',monospace\">┏━━━━━━━━━━━━━━━━━━━━━━━━━━━━━━━━━━━━━━┳━━━━━━━━━━━━━━━━━━━━━━━━━━━━━┳━━━━━━━━━━━━━━━━━┓\n",
       "┃<span style=\"font-weight: bold\"> Layer (type)                         </span>┃<span style=\"font-weight: bold\"> Output Shape                </span>┃<span style=\"font-weight: bold\">         Param # </span>┃\n",
       "┡━━━━━━━━━━━━━━━━━━━━━━━━━━━━━━━━━━━━━━╇━━━━━━━━━━━━━━━━━━━━━━━━━━━━━╇━━━━━━━━━━━━━━━━━┩\n",
       "│ lstm_6 (<span style=\"color: #0087ff; text-decoration-color: #0087ff\">LSTM</span>)                        │ (<span style=\"color: #00d7ff; text-decoration-color: #00d7ff\">None</span>, <span style=\"color: #00af00; text-decoration-color: #00af00\">100</span>, <span style=\"color: #00af00; text-decoration-color: #00af00\">50</span>)             │          <span style=\"color: #00af00; text-decoration-color: #00af00\">10,400</span> │\n",
       "├──────────────────────────────────────┼─────────────────────────────┼─────────────────┤\n",
       "│ lstm_7 (<span style=\"color: #0087ff; text-decoration-color: #0087ff\">LSTM</span>)                        │ (<span style=\"color: #00d7ff; text-decoration-color: #00d7ff\">None</span>, <span style=\"color: #00af00; text-decoration-color: #00af00\">100</span>, <span style=\"color: #00af00; text-decoration-color: #00af00\">50</span>)             │          <span style=\"color: #00af00; text-decoration-color: #00af00\">20,200</span> │\n",
       "├──────────────────────────────────────┼─────────────────────────────┼─────────────────┤\n",
       "│ lstm_8 (<span style=\"color: #0087ff; text-decoration-color: #0087ff\">LSTM</span>)                        │ (<span style=\"color: #00d7ff; text-decoration-color: #00d7ff\">None</span>, <span style=\"color: #00af00; text-decoration-color: #00af00\">50</span>)                  │          <span style=\"color: #00af00; text-decoration-color: #00af00\">20,200</span> │\n",
       "├──────────────────────────────────────┼─────────────────────────────┼─────────────────┤\n",
       "│ dense_2 (<span style=\"color: #0087ff; text-decoration-color: #0087ff\">Dense</span>)                      │ (<span style=\"color: #00d7ff; text-decoration-color: #00d7ff\">None</span>, <span style=\"color: #00af00; text-decoration-color: #00af00\">1</span>)                   │              <span style=\"color: #00af00; text-decoration-color: #00af00\">51</span> │\n",
       "└──────────────────────────────────────┴─────────────────────────────┴─────────────────┘\n",
       "</pre>\n"
      ],
      "text/plain": [
       "┏━━━━━━━━━━━━━━━━━━━━━━━━━━━━━━━━━━━━━━┳━━━━━━━━━━━━━━━━━━━━━━━━━━━━━┳━━━━━━━━━━━━━━━━━┓\n",
       "┃\u001b[1m \u001b[0m\u001b[1mLayer (type)                        \u001b[0m\u001b[1m \u001b[0m┃\u001b[1m \u001b[0m\u001b[1mOutput Shape               \u001b[0m\u001b[1m \u001b[0m┃\u001b[1m \u001b[0m\u001b[1m        Param #\u001b[0m\u001b[1m \u001b[0m┃\n",
       "┡━━━━━━━━━━━━━━━━━━━━━━━━━━━━━━━━━━━━━━╇━━━━━━━━━━━━━━━━━━━━━━━━━━━━━╇━━━━━━━━━━━━━━━━━┩\n",
       "│ lstm_6 (\u001b[38;5;33mLSTM\u001b[0m)                        │ (\u001b[38;5;45mNone\u001b[0m, \u001b[38;5;34m100\u001b[0m, \u001b[38;5;34m50\u001b[0m)             │          \u001b[38;5;34m10,400\u001b[0m │\n",
       "├──────────────────────────────────────┼─────────────────────────────┼─────────────────┤\n",
       "│ lstm_7 (\u001b[38;5;33mLSTM\u001b[0m)                        │ (\u001b[38;5;45mNone\u001b[0m, \u001b[38;5;34m100\u001b[0m, \u001b[38;5;34m50\u001b[0m)             │          \u001b[38;5;34m20,200\u001b[0m │\n",
       "├──────────────────────────────────────┼─────────────────────────────┼─────────────────┤\n",
       "│ lstm_8 (\u001b[38;5;33mLSTM\u001b[0m)                        │ (\u001b[38;5;45mNone\u001b[0m, \u001b[38;5;34m50\u001b[0m)                  │          \u001b[38;5;34m20,200\u001b[0m │\n",
       "├──────────────────────────────────────┼─────────────────────────────┼─────────────────┤\n",
       "│ dense_2 (\u001b[38;5;33mDense\u001b[0m)                      │ (\u001b[38;5;45mNone\u001b[0m, \u001b[38;5;34m1\u001b[0m)                   │              \u001b[38;5;34m51\u001b[0m │\n",
       "└──────────────────────────────────────┴─────────────────────────────┴─────────────────┘\n"
      ]
     },
     "metadata": {},
     "output_type": "display_data"
    },
    {
     "data": {
      "text/html": [
       "<pre style=\"white-space:pre;overflow-x:auto;line-height:normal;font-family:Menlo,'DejaVu Sans Mono',consolas,'Courier New',monospace\"><span style=\"font-weight: bold\"> Total params: </span><span style=\"color: #00af00; text-decoration-color: #00af00\">50,851</span> (198.64 KB)\n",
       "</pre>\n"
      ],
      "text/plain": [
       "\u001b[1m Total params: \u001b[0m\u001b[38;5;34m50,851\u001b[0m (198.64 KB)\n"
      ]
     },
     "metadata": {},
     "output_type": "display_data"
    },
    {
     "data": {
      "text/html": [
       "<pre style=\"white-space:pre;overflow-x:auto;line-height:normal;font-family:Menlo,'DejaVu Sans Mono',consolas,'Courier New',monospace\"><span style=\"font-weight: bold\"> Trainable params: </span><span style=\"color: #00af00; text-decoration-color: #00af00\">50,851</span> (198.64 KB)\n",
       "</pre>\n"
      ],
      "text/plain": [
       "\u001b[1m Trainable params: \u001b[0m\u001b[38;5;34m50,851\u001b[0m (198.64 KB)\n"
      ]
     },
     "metadata": {},
     "output_type": "display_data"
    },
    {
     "data": {
      "text/html": [
       "<pre style=\"white-space:pre;overflow-x:auto;line-height:normal;font-family:Menlo,'DejaVu Sans Mono',consolas,'Courier New',monospace\"><span style=\"font-weight: bold\"> Non-trainable params: </span><span style=\"color: #00af00; text-decoration-color: #00af00\">0</span> (0.00 B)\n",
       "</pre>\n"
      ],
      "text/plain": [
       "\u001b[1m Non-trainable params: \u001b[0m\u001b[38;5;34m0\u001b[0m (0.00 B)\n"
      ]
     },
     "metadata": {},
     "output_type": "display_data"
    }
   ],
   "source": [
    "model.summary()"
   ]
  },
  {
   "cell_type": "code",
   "execution_count": 102,
   "id": "d81581c7-f4fe-48da-8ad1-1b12c5cd955e",
   "metadata": {},
   "outputs": [
    {
     "name": "stdout",
     "output_type": "stream",
     "text": [
      "Epoch 1/100\n",
      "\u001b[1m12/12\u001b[0m \u001b[32m━━━━━━━━━━━━━━━━━━━━\u001b[0m\u001b[37m\u001b[0m \u001b[1m11s\u001b[0m 375ms/step - loss: 0.0069 - val_loss: 0.0133\n",
      "Epoch 2/100\n",
      "\u001b[1m12/12\u001b[0m \u001b[32m━━━━━━━━━━━━━━━━━━━━\u001b[0m\u001b[37m\u001b[0m \u001b[1m3s\u001b[0m 180ms/step - loss: 0.0011 - val_loss: 0.0039\n",
      "Epoch 3/100\n",
      "\u001b[1m12/12\u001b[0m \u001b[32m━━━━━━━━━━━━━━━━━━━━\u001b[0m\u001b[37m\u001b[0m \u001b[1m3s\u001b[0m 238ms/step - loss: 5.6156e-04 - val_loss: 9.7638e-04\n",
      "Epoch 4/100\n",
      "\u001b[1m12/12\u001b[0m \u001b[32m━━━━━━━━━━━━━━━━━━━━\u001b[0m\u001b[37m\u001b[0m \u001b[1m5s\u001b[0m 188ms/step - loss: 4.1384e-04 - val_loss: 9.2219e-04\n",
      "Epoch 5/100\n",
      "\u001b[1m12/12\u001b[0m \u001b[32m━━━━━━━━━━━━━━━━━━━━\u001b[0m\u001b[37m\u001b[0m \u001b[1m3s\u001b[0m 233ms/step - loss: 3.5898e-04 - val_loss: 6.5808e-04\n",
      "Epoch 6/100\n",
      "\u001b[1m12/12\u001b[0m \u001b[32m━━━━━━━━━━━━━━━━━━━━\u001b[0m\u001b[37m\u001b[0m \u001b[1m2s\u001b[0m 186ms/step - loss: 3.3868e-04 - val_loss: 8.8996e-04\n",
      "Epoch 7/100\n",
      "\u001b[1m12/12\u001b[0m \u001b[32m━━━━━━━━━━━━━━━━━━━━\u001b[0m\u001b[37m\u001b[0m \u001b[1m4s\u001b[0m 332ms/step - loss: 3.0778e-04 - val_loss: 6.0190e-04\n",
      "Epoch 8/100\n",
      "\u001b[1m12/12\u001b[0m \u001b[32m━━━━━━━━━━━━━━━━━━━━\u001b[0m\u001b[37m\u001b[0m \u001b[1m2s\u001b[0m 182ms/step - loss: 3.1931e-04 - val_loss: 5.8060e-04\n",
      "Epoch 9/100\n",
      "\u001b[1m12/12\u001b[0m \u001b[32m━━━━━━━━━━━━━━━━━━━━\u001b[0m\u001b[37m\u001b[0m \u001b[1m3s\u001b[0m 258ms/step - loss: 2.8201e-04 - val_loss: 7.4593e-04\n",
      "Epoch 10/100\n",
      "\u001b[1m12/12\u001b[0m \u001b[32m━━━━━━━━━━━━━━━━━━━━\u001b[0m\u001b[37m\u001b[0m \u001b[1m3s\u001b[0m 270ms/step - loss: 2.8348e-04 - val_loss: 7.5843e-04\n",
      "Epoch 11/100\n",
      "\u001b[1m12/12\u001b[0m \u001b[32m━━━━━━━━━━━━━━━━━━━━\u001b[0m\u001b[37m\u001b[0m \u001b[1m3s\u001b[0m 210ms/step - loss: 2.8030e-04 - val_loss: 5.3146e-04\n",
      "Epoch 12/100\n",
      "\u001b[1m12/12\u001b[0m \u001b[32m━━━━━━━━━━━━━━━━━━━━\u001b[0m\u001b[37m\u001b[0m \u001b[1m4s\u001b[0m 335ms/step - loss: 2.6322e-04 - val_loss: 9.8670e-04\n",
      "Epoch 13/100\n",
      "\u001b[1m12/12\u001b[0m \u001b[32m━━━━━━━━━━━━━━━━━━━━\u001b[0m\u001b[37m\u001b[0m \u001b[1m2s\u001b[0m 179ms/step - loss: 2.9530e-04 - val_loss: 6.2207e-04\n",
      "Epoch 14/100\n",
      "\u001b[1m12/12\u001b[0m \u001b[32m━━━━━━━━━━━━━━━━━━━━\u001b[0m\u001b[37m\u001b[0m \u001b[1m3s\u001b[0m 233ms/step - loss: 2.3851e-04 - val_loss: 6.9153e-04\n",
      "Epoch 15/100\n",
      "\u001b[1m12/12\u001b[0m \u001b[32m━━━━━━━━━━━━━━━━━━━━\u001b[0m\u001b[37m\u001b[0m \u001b[1m5s\u001b[0m 186ms/step - loss: 2.3959e-04 - val_loss: 6.6854e-04\n",
      "Epoch 16/100\n",
      "\u001b[1m12/12\u001b[0m \u001b[32m━━━━━━━━━━━━━━━━━━━━\u001b[0m\u001b[37m\u001b[0m \u001b[1m2s\u001b[0m 207ms/step - loss: 2.3429e-04 - val_loss: 4.7772e-04\n",
      "Epoch 17/100\n",
      "\u001b[1m12/12\u001b[0m \u001b[32m━━━━━━━━━━━━━━━━━━━━\u001b[0m\u001b[37m\u001b[0m \u001b[1m4s\u001b[0m 341ms/step - loss: 2.3427e-04 - val_loss: 5.8602e-04\n",
      "Epoch 18/100\n",
      "\u001b[1m12/12\u001b[0m \u001b[32m━━━━━━━━━━━━━━━━━━━━\u001b[0m\u001b[37m\u001b[0m \u001b[1m2s\u001b[0m 185ms/step - loss: 2.2086e-04 - val_loss: 5.9412e-04\n",
      "Epoch 19/100\n",
      "\u001b[1m12/12\u001b[0m \u001b[32m━━━━━━━━━━━━━━━━━━━━\u001b[0m\u001b[37m\u001b[0m \u001b[1m3s\u001b[0m 252ms/step - loss: 2.1479e-04 - val_loss: 5.5279e-04\n",
      "Epoch 20/100\n",
      "\u001b[1m12/12\u001b[0m \u001b[32m━━━━━━━━━━━━━━━━━━━━\u001b[0m\u001b[37m\u001b[0m \u001b[1m4s\u001b[0m 185ms/step - loss: 2.1314e-04 - val_loss: 4.9578e-04\n",
      "Epoch 21/100\n",
      "\u001b[1m12/12\u001b[0m \u001b[32m━━━━━━━━━━━━━━━━━━━━\u001b[0m\u001b[37m\u001b[0m \u001b[1m3s\u001b[0m 225ms/step - loss: 1.8999e-04 - val_loss: 5.6000e-04\n",
      "Epoch 22/100\n",
      "\u001b[1m12/12\u001b[0m \u001b[32m━━━━━━━━━━━━━━━━━━━━\u001b[0m\u001b[37m\u001b[0m \u001b[1m2s\u001b[0m 179ms/step - loss: 1.9502e-04 - val_loss: 4.5155e-04\n",
      "Epoch 23/100\n",
      "\u001b[1m12/12\u001b[0m \u001b[32m━━━━━━━━━━━━━━━━━━━━\u001b[0m\u001b[37m\u001b[0m \u001b[1m4s\u001b[0m 325ms/step - loss: 1.8763e-04 - val_loss: 4.3615e-04\n",
      "Epoch 24/100\n",
      "\u001b[1m12/12\u001b[0m \u001b[32m━━━━━━━━━━━━━━━━━━━━\u001b[0m\u001b[37m\u001b[0m \u001b[1m2s\u001b[0m 184ms/step - loss: 2.0938e-04 - val_loss: 4.3893e-04\n",
      "Epoch 25/100\n",
      "\u001b[1m12/12\u001b[0m \u001b[32m━━━━━━━━━━━━━━━━━━━━\u001b[0m\u001b[37m\u001b[0m \u001b[1m3s\u001b[0m 247ms/step - loss: 1.8986e-04 - val_loss: 4.9180e-04\n",
      "Epoch 26/100\n",
      "\u001b[1m12/12\u001b[0m \u001b[32m━━━━━━━━━━━━━━━━━━━━\u001b[0m\u001b[37m\u001b[0m \u001b[1m3s\u001b[0m 207ms/step - loss: 1.8263e-04 - val_loss: 5.1907e-04\n",
      "Epoch 27/100\n",
      "\u001b[1m12/12\u001b[0m \u001b[32m━━━━━━━━━━━━━━━━━━━━\u001b[0m\u001b[37m\u001b[0m \u001b[1m2s\u001b[0m 186ms/step - loss: 2.1402e-04 - val_loss: 4.4991e-04\n",
      "Epoch 28/100\n",
      "\u001b[1m12/12\u001b[0m \u001b[32m━━━━━━━━━━━━━━━━━━━━\u001b[0m\u001b[37m\u001b[0m \u001b[1m3s\u001b[0m 179ms/step - loss: 1.8505e-04 - val_loss: 4.1229e-04\n",
      "Epoch 29/100\n",
      "\u001b[1m12/12\u001b[0m \u001b[32m━━━━━━━━━━━━━━━━━━━━\u001b[0m\u001b[37m\u001b[0m \u001b[1m4s\u001b[0m 306ms/step - loss: 1.8070e-04 - val_loss: 5.7988e-04\n",
      "Epoch 30/100\n",
      "\u001b[1m12/12\u001b[0m \u001b[32m━━━━━━━━━━━━━━━━━━━━\u001b[0m\u001b[37m\u001b[0m \u001b[1m2s\u001b[0m 186ms/step - loss: 1.7660e-04 - val_loss: 4.4789e-04\n",
      "Epoch 31/100\n",
      "\u001b[1m12/12\u001b[0m \u001b[32m━━━━━━━━━━━━━━━━━━━━\u001b[0m\u001b[37m\u001b[0m \u001b[1m4s\u001b[0m 308ms/step - loss: 1.7648e-04 - val_loss: 4.1758e-04\n",
      "Epoch 32/100\n",
      "\u001b[1m12/12\u001b[0m \u001b[32m━━━━━━━━━━━━━━━━━━━━\u001b[0m\u001b[37m\u001b[0m \u001b[1m2s\u001b[0m 185ms/step - loss: 1.8193e-04 - val_loss: 4.1837e-04\n",
      "Epoch 33/100\n",
      "\u001b[1m12/12\u001b[0m \u001b[32m━━━━━━━━━━━━━━━━━━━━\u001b[0m\u001b[37m\u001b[0m \u001b[1m3s\u001b[0m 251ms/step - loss: 1.7238e-04 - val_loss: 3.8860e-04\n",
      "Epoch 34/100\n",
      "\u001b[1m12/12\u001b[0m \u001b[32m━━━━━━━━━━━━━━━━━━━━\u001b[0m\u001b[37m\u001b[0m \u001b[1m3s\u001b[0m 207ms/step - loss: 1.5526e-04 - val_loss: 6.1122e-04\n",
      "Epoch 35/100\n",
      "\u001b[1m12/12\u001b[0m \u001b[32m━━━━━━━━━━━━━━━━━━━━\u001b[0m\u001b[37m\u001b[0m \u001b[1m3s\u001b[0m 228ms/step - loss: 1.8550e-04 - val_loss: 3.7259e-04\n",
      "Epoch 36/100\n",
      "\u001b[1m12/12\u001b[0m \u001b[32m━━━━━━━━━━━━━━━━━━━━\u001b[0m\u001b[37m\u001b[0m \u001b[1m3s\u001b[0m 281ms/step - loss: 1.6266e-04 - val_loss: 5.8337e-04\n",
      "Epoch 37/100\n",
      "\u001b[1m12/12\u001b[0m \u001b[32m━━━━━━━━━━━━━━━━━━━━\u001b[0m\u001b[37m\u001b[0m \u001b[1m2s\u001b[0m 185ms/step - loss: 1.8072e-04 - val_loss: 3.9311e-04\n",
      "Epoch 38/100\n",
      "\u001b[1m12/12\u001b[0m \u001b[32m━━━━━━━━━━━━━━━━━━━━\u001b[0m\u001b[37m\u001b[0m \u001b[1m3s\u001b[0m 278ms/step - loss: 1.7621e-04 - val_loss: 3.8085e-04\n",
      "Epoch 39/100\n",
      "\u001b[1m12/12\u001b[0m \u001b[32m━━━━━━━━━━━━━━━━━━━━\u001b[0m\u001b[37m\u001b[0m \u001b[1m3s\u001b[0m 272ms/step - loss: 1.6257e-04 - val_loss: 4.6439e-04\n",
      "Epoch 40/100\n",
      "\u001b[1m12/12\u001b[0m \u001b[32m━━━━━━━━━━━━━━━━━━━━\u001b[0m\u001b[37m\u001b[0m \u001b[1m4s\u001b[0m 177ms/step - loss: 1.5956e-04 - val_loss: 3.5991e-04\n",
      "Epoch 41/100\n",
      "\u001b[1m12/12\u001b[0m \u001b[32m━━━━━━━━━━━━━━━━━━━━\u001b[0m\u001b[37m\u001b[0m \u001b[1m3s\u001b[0m 216ms/step - loss: 1.5677e-04 - val_loss: 3.9389e-04\n",
      "Epoch 42/100\n",
      "\u001b[1m12/12\u001b[0m \u001b[32m━━━━━━━━━━━━━━━━━━━━\u001b[0m\u001b[37m\u001b[0m \u001b[1m4s\u001b[0m 340ms/step - loss: 1.4853e-04 - val_loss: 3.4861e-04\n",
      "Epoch 43/100\n",
      "\u001b[1m12/12\u001b[0m \u001b[32m━━━━━━━━━━━━━━━━━━━━\u001b[0m\u001b[37m\u001b[0m \u001b[1m2s\u001b[0m 179ms/step - loss: 1.4710e-04 - val_loss: 4.3807e-04\n",
      "Epoch 44/100\n",
      "\u001b[1m12/12\u001b[0m \u001b[32m━━━━━━━━━━━━━━━━━━━━\u001b[0m\u001b[37m\u001b[0m \u001b[1m3s\u001b[0m 223ms/step - loss: 1.6607e-04 - val_loss: 4.8063e-04\n",
      "Epoch 45/100\n",
      "\u001b[1m12/12\u001b[0m \u001b[32m━━━━━━━━━━━━━━━━━━━━\u001b[0m\u001b[37m\u001b[0m \u001b[1m2s\u001b[0m 203ms/step - loss: 1.4463e-04 - val_loss: 3.2841e-04\n",
      "Epoch 46/100\n",
      "\u001b[1m12/12\u001b[0m \u001b[32m━━━━━━━━━━━━━━━━━━━━\u001b[0m\u001b[37m\u001b[0m \u001b[1m2s\u001b[0m 180ms/step - loss: 1.3783e-04 - val_loss: 3.7844e-04\n",
      "Epoch 47/100\n",
      "\u001b[1m12/12\u001b[0m \u001b[32m━━━━━━━━━━━━━━━━━━━━\u001b[0m\u001b[37m\u001b[0m \u001b[1m3s\u001b[0m 282ms/step - loss: 1.4145e-04 - val_loss: 7.6384e-04\n",
      "Epoch 48/100\n",
      "\u001b[1m12/12\u001b[0m \u001b[32m━━━━━━━━━━━━━━━━━━━━\u001b[0m\u001b[37m\u001b[0m \u001b[1m4s\u001b[0m 184ms/step - loss: 1.8941e-04 - val_loss: 3.1351e-04\n",
      "Epoch 49/100\n",
      "\u001b[1m12/12\u001b[0m \u001b[32m━━━━━━━━━━━━━━━━━━━━\u001b[0m\u001b[37m\u001b[0m \u001b[1m3s\u001b[0m 229ms/step - loss: 1.3978e-04 - val_loss: 3.1120e-04\n",
      "Epoch 50/100\n",
      "\u001b[1m12/12\u001b[0m \u001b[32m━━━━━━━━━━━━━━━━━━━━\u001b[0m\u001b[37m\u001b[0m \u001b[1m2s\u001b[0m 184ms/step - loss: 1.3666e-04 - val_loss: 4.3597e-04\n",
      "Epoch 51/100\n",
      "\u001b[1m12/12\u001b[0m \u001b[32m━━━━━━━━━━━━━━━━━━━━\u001b[0m\u001b[37m\u001b[0m \u001b[1m3s\u001b[0m 271ms/step - loss: 1.2921e-04 - val_loss: 3.8900e-04\n",
      "Epoch 52/100\n",
      "\u001b[1m12/12\u001b[0m \u001b[32m━━━━━━━━━━━━━━━━━━━━\u001b[0m\u001b[37m\u001b[0m \u001b[1m4s\u001b[0m 181ms/step - loss: 1.3686e-04 - val_loss: 3.0264e-04\n",
      "Epoch 53/100\n",
      "\u001b[1m12/12\u001b[0m \u001b[32m━━━━━━━━━━━━━━━━━━━━\u001b[0m\u001b[37m\u001b[0m \u001b[1m3s\u001b[0m 183ms/step - loss: 1.3512e-04 - val_loss: 3.9322e-04\n",
      "Epoch 54/100\n",
      "\u001b[1m12/12\u001b[0m \u001b[32m━━━━━━━━━━━━━━━━━━━━\u001b[0m\u001b[37m\u001b[0m \u001b[1m3s\u001b[0m 247ms/step - loss: 1.2441e-04 - val_loss: 3.3483e-04\n",
      "Epoch 55/100\n",
      "\u001b[1m12/12\u001b[0m \u001b[32m━━━━━━━━━━━━━━━━━━━━\u001b[0m\u001b[37m\u001b[0m \u001b[1m5s\u001b[0m 182ms/step - loss: 1.2033e-04 - val_loss: 2.9278e-04\n",
      "Epoch 56/100\n",
      "\u001b[1m12/12\u001b[0m \u001b[32m━━━━━━━━━━━━━━━━━━━━\u001b[0m\u001b[37m\u001b[0m \u001b[1m3s\u001b[0m 235ms/step - loss: 1.3366e-04 - val_loss: 3.6545e-04\n",
      "Epoch 57/100\n",
      "\u001b[1m12/12\u001b[0m \u001b[32m━━━━━━━━━━━━━━━━━━━━\u001b[0m\u001b[37m\u001b[0m \u001b[1m2s\u001b[0m 183ms/step - loss: 1.2339e-04 - val_loss: 2.9985e-04\n",
      "Epoch 58/100\n",
      "\u001b[1m12/12\u001b[0m \u001b[32m━━━━━━━━━━━━━━━━━━━━\u001b[0m\u001b[37m\u001b[0m \u001b[1m3s\u001b[0m 267ms/step - loss: 1.2024e-04 - val_loss: 4.6813e-04\n",
      "Epoch 59/100\n",
      "\u001b[1m12/12\u001b[0m \u001b[32m━━━━━━━━━━━━━━━━━━━━\u001b[0m\u001b[37m\u001b[0m \u001b[1m3s\u001b[0m 211ms/step - loss: 1.2946e-04 - val_loss: 2.8099e-04\n",
      "Epoch 60/100\n",
      "\u001b[1m12/12\u001b[0m \u001b[32m━━━━━━━━━━━━━━━━━━━━\u001b[0m\u001b[37m\u001b[0m \u001b[1m2s\u001b[0m 206ms/step - loss: 1.3198e-04 - val_loss: 4.8115e-04\n",
      "Epoch 61/100\n",
      "\u001b[1m12/12\u001b[0m \u001b[32m━━━━━━━━━━━━━━━━━━━━\u001b[0m\u001b[37m\u001b[0m \u001b[1m2s\u001b[0m 186ms/step - loss: 1.3117e-04 - val_loss: 2.9742e-04\n",
      "Epoch 62/100\n",
      "\u001b[1m12/12\u001b[0m \u001b[32m━━━━━━━━━━━━━━━━━━━━\u001b[0m\u001b[37m\u001b[0m \u001b[1m4s\u001b[0m 328ms/step - loss: 1.1237e-04 - val_loss: 2.9271e-04\n",
      "Epoch 63/100\n",
      "\u001b[1m12/12\u001b[0m \u001b[32m━━━━━━━━━━━━━━━━━━━━\u001b[0m\u001b[37m\u001b[0m \u001b[1m2s\u001b[0m 184ms/step - loss: 1.1201e-04 - val_loss: 2.7082e-04\n",
      "Epoch 64/100\n",
      "\u001b[1m12/12\u001b[0m \u001b[32m━━━━━━━━━━━━━━━━━━━━\u001b[0m\u001b[37m\u001b[0m \u001b[1m3s\u001b[0m 250ms/step - loss: 1.3316e-04 - val_loss: 4.0449e-04\n",
      "Epoch 65/100\n",
      "\u001b[1m12/12\u001b[0m \u001b[32m━━━━━━━━━━━━━━━━━━━━\u001b[0m\u001b[37m\u001b[0m \u001b[1m3s\u001b[0m 206ms/step - loss: 1.2306e-04 - val_loss: 2.8032e-04\n",
      "Epoch 66/100\n",
      "\u001b[1m12/12\u001b[0m \u001b[32m━━━━━━━━━━━━━━━━━━━━\u001b[0m\u001b[37m\u001b[0m \u001b[1m2s\u001b[0m 178ms/step - loss: 1.0841e-04 - val_loss: 3.3169e-04\n",
      "Epoch 67/100\n",
      "\u001b[1m12/12\u001b[0m \u001b[32m━━━━━━━━━━━━━━━━━━━━\u001b[0m\u001b[37m\u001b[0m \u001b[1m4s\u001b[0m 341ms/step - loss: 1.1603e-04 - val_loss: 2.7000e-04\n",
      "Epoch 68/100\n",
      "\u001b[1m12/12\u001b[0m \u001b[32m━━━━━━━━━━━━━━━━━━━━\u001b[0m\u001b[37m\u001b[0m \u001b[1m2s\u001b[0m 181ms/step - loss: 1.3812e-04 - val_loss: 2.5181e-04\n",
      "Epoch 69/100\n",
      "\u001b[1m12/12\u001b[0m \u001b[32m━━━━━━━━━━━━━━━━━━━━\u001b[0m\u001b[37m\u001b[0m \u001b[1m3s\u001b[0m 294ms/step - loss: 1.2121e-04 - val_loss: 4.7098e-04\n",
      "Epoch 70/100\n",
      "\u001b[1m12/12\u001b[0m \u001b[32m━━━━━━━━━━━━━━━━━━━━\u001b[0m\u001b[37m\u001b[0m \u001b[1m2s\u001b[0m 182ms/step - loss: 1.3306e-04 - val_loss: 2.5072e-04\n",
      "Epoch 71/100\n",
      "\u001b[1m12/12\u001b[0m \u001b[32m━━━━━━━━━━━━━━━━━━━━\u001b[0m\u001b[37m\u001b[0m \u001b[1m3s\u001b[0m 179ms/step - loss: 1.1922e-04 - val_loss: 3.1657e-04\n",
      "Epoch 72/100\n",
      "\u001b[1m12/12\u001b[0m \u001b[32m━━━━━━━━━━━━━━━━━━━━\u001b[0m\u001b[37m\u001b[0m \u001b[1m3s\u001b[0m 248ms/step - loss: 9.8242e-05 - val_loss: 2.4463e-04\n",
      "Epoch 73/100\n",
      "\u001b[1m12/12\u001b[0m \u001b[32m━━━━━━━━━━━━━━━━━━━━\u001b[0m\u001b[37m\u001b[0m \u001b[1m5s\u001b[0m 183ms/step - loss: 9.1476e-05 - val_loss: 4.3989e-04\n",
      "Epoch 74/100\n",
      "\u001b[1m12/12\u001b[0m \u001b[32m━━━━━━━━━━━━━━━━━━━━\u001b[0m\u001b[37m\u001b[0m \u001b[1m3s\u001b[0m 289ms/step - loss: 1.1382e-04 - val_loss: 2.3026e-04\n",
      "Epoch 75/100\n",
      "\u001b[1m12/12\u001b[0m \u001b[32m━━━━━━━━━━━━━━━━━━━━\u001b[0m\u001b[37m\u001b[0m \u001b[1m2s\u001b[0m 182ms/step - loss: 1.1957e-04 - val_loss: 2.3804e-04\n",
      "Epoch 76/100\n",
      "\u001b[1m12/12\u001b[0m \u001b[32m━━━━━━━━━━━━━━━━━━━━\u001b[0m\u001b[37m\u001b[0m \u001b[1m3s\u001b[0m 239ms/step - loss: 1.0103e-04 - val_loss: 2.2021e-04\n",
      "Epoch 77/100\n",
      "\u001b[1m12/12\u001b[0m \u001b[32m━━━━━━━━━━━━━━━━━━━━\u001b[0m\u001b[37m\u001b[0m \u001b[1m4s\u001b[0m 340ms/step - loss: 1.3672e-04 - val_loss: 3.1924e-04\n",
      "Epoch 78/100\n",
      "\u001b[1m12/12\u001b[0m \u001b[32m━━━━━━━━━━━━━━━━━━━━\u001b[0m\u001b[37m\u001b[0m \u001b[1m2s\u001b[0m 182ms/step - loss: 1.0773e-04 - val_loss: 2.4487e-04\n",
      "Epoch 79/100\n",
      "\u001b[1m12/12\u001b[0m \u001b[32m━━━━━━━━━━━━━━━━━━━━\u001b[0m\u001b[37m\u001b[0m \u001b[1m3s\u001b[0m 295ms/step - loss: 1.0140e-04 - val_loss: 2.3760e-04\n",
      "Epoch 80/100\n",
      "\u001b[1m12/12\u001b[0m \u001b[32m━━━━━━━━━━━━━━━━━━━━\u001b[0m\u001b[37m\u001b[0m \u001b[1m2s\u001b[0m 183ms/step - loss: 9.2936e-05 - val_loss: 2.4640e-04\n",
      "Epoch 81/100\n",
      "\u001b[1m12/12\u001b[0m \u001b[32m━━━━━━━━━━━━━━━━━━━━\u001b[0m\u001b[37m\u001b[0m \u001b[1m4s\u001b[0m 333ms/step - loss: 1.0080e-04 - val_loss: 3.8135e-04\n",
      "Epoch 82/100\n",
      "\u001b[1m12/12\u001b[0m \u001b[32m━━━━━━━━━━━━━━━━━━━━\u001b[0m\u001b[37m\u001b[0m \u001b[1m2s\u001b[0m 182ms/step - loss: 1.0023e-04 - val_loss: 2.2447e-04\n",
      "Epoch 83/100\n",
      "\u001b[1m12/12\u001b[0m \u001b[32m━━━━━━━━━━━━━━━━━━━━\u001b[0m\u001b[37m\u001b[0m \u001b[1m3s\u001b[0m 250ms/step - loss: 9.8245e-05 - val_loss: 2.5068e-04\n",
      "Epoch 84/100\n",
      "\u001b[1m12/12\u001b[0m \u001b[32m━━━━━━━━━━━━━━━━━━━━\u001b[0m\u001b[37m\u001b[0m \u001b[1m3s\u001b[0m 208ms/step - loss: 1.0099e-04 - val_loss: 2.4733e-04\n",
      "Epoch 85/100\n",
      "\u001b[1m12/12\u001b[0m \u001b[32m━━━━━━━━━━━━━━━━━━━━\u001b[0m\u001b[37m\u001b[0m \u001b[1m2s\u001b[0m 186ms/step - loss: 1.0900e-04 - val_loss: 1.9748e-04\n",
      "Epoch 86/100\n",
      "\u001b[1m12/12\u001b[0m \u001b[32m━━━━━━━━━━━━━━━━━━━━\u001b[0m\u001b[37m\u001b[0m \u001b[1m3s\u001b[0m 266ms/step - loss: 9.4591e-05 - val_loss: 1.9454e-04\n",
      "Epoch 87/100\n",
      "\u001b[1m12/12\u001b[0m \u001b[32m━━━━━━━━━━━━━━━━━━━━\u001b[0m\u001b[37m\u001b[0m \u001b[1m4s\u001b[0m 187ms/step - loss: 9.5223e-05 - val_loss: 3.1703e-04\n",
      "Epoch 88/100\n",
      "\u001b[1m12/12\u001b[0m \u001b[32m━━━━━━━━━━━━━━━━━━━━\u001b[0m\u001b[37m\u001b[0m \u001b[1m3s\u001b[0m 224ms/step - loss: 8.7741e-05 - val_loss: 3.1420e-04\n",
      "Epoch 89/100\n",
      "\u001b[1m12/12\u001b[0m \u001b[32m━━━━━━━━━━━━━━━━━━━━\u001b[0m\u001b[37m\u001b[0m \u001b[1m5s\u001b[0m 190ms/step - loss: 9.7198e-05 - val_loss: 1.8868e-04\n",
      "Epoch 90/100\n",
      "\u001b[1m12/12\u001b[0m \u001b[32m━━━━━━━━━━━━━━━━━━━━\u001b[0m\u001b[37m\u001b[0m \u001b[1m3s\u001b[0m 229ms/step - loss: 9.3308e-05 - val_loss: 2.2615e-04\n",
      "Epoch 91/100\n",
      "\u001b[1m12/12\u001b[0m \u001b[32m━━━━━━━━━━━━━━━━━━━━\u001b[0m\u001b[37m\u001b[0m \u001b[1m3s\u001b[0m 264ms/step - loss: 8.3709e-05 - val_loss: 1.9116e-04\n",
      "Epoch 92/100\n",
      "\u001b[1m12/12\u001b[0m \u001b[32m━━━━━━━━━━━━━━━━━━━━\u001b[0m\u001b[37m\u001b[0m \u001b[1m4s\u001b[0m 330ms/step - loss: 8.7182e-05 - val_loss: 2.2128e-04\n",
      "Epoch 93/100\n",
      "\u001b[1m12/12\u001b[0m \u001b[32m━━━━━━━━━━━━━━━━━━━━\u001b[0m\u001b[37m\u001b[0m \u001b[1m4s\u001b[0m 190ms/step - loss: 1.0310e-04 - val_loss: 3.6351e-04\n",
      "Epoch 94/100\n",
      "\u001b[1m12/12\u001b[0m \u001b[32m━━━━━━━━━━━━━━━━━━━━\u001b[0m\u001b[37m\u001b[0m \u001b[1m3s\u001b[0m 216ms/step - loss: 9.8769e-05 - val_loss: 1.7779e-04\n",
      "Epoch 95/100\n",
      "\u001b[1m12/12\u001b[0m \u001b[32m━━━━━━━━━━━━━━━━━━━━\u001b[0m\u001b[37m\u001b[0m \u001b[1m5s\u001b[0m 191ms/step - loss: 8.6837e-05 - val_loss: 3.7170e-04\n",
      "Epoch 96/100\n",
      "\u001b[1m12/12\u001b[0m \u001b[32m━━━━━━━━━━━━━━━━━━━━\u001b[0m\u001b[37m\u001b[0m \u001b[1m2s\u001b[0m 205ms/step - loss: 9.2370e-05 - val_loss: 1.9276e-04\n",
      "Epoch 97/100\n",
      "\u001b[1m12/12\u001b[0m \u001b[32m━━━━━━━━━━━━━━━━━━━━\u001b[0m\u001b[37m\u001b[0m \u001b[1m4s\u001b[0m 335ms/step - loss: 8.1013e-05 - val_loss: 2.1988e-04\n",
      "Epoch 98/100\n",
      "\u001b[1m12/12\u001b[0m \u001b[32m━━━━━━━━━━━━━━━━━━━━\u001b[0m\u001b[37m\u001b[0m \u001b[1m3s\u001b[0m 207ms/step - loss: 9.1955e-05 - val_loss: 1.6815e-04\n",
      "Epoch 99/100\n",
      "\u001b[1m12/12\u001b[0m \u001b[32m━━━━━━━━━━━━━━━━━━━━\u001b[0m\u001b[37m\u001b[0m \u001b[1m2s\u001b[0m 184ms/step - loss: 9.1937e-05 - val_loss: 1.9148e-04\n",
      "Epoch 100/100\n",
      "\u001b[1m12/12\u001b[0m \u001b[32m━━━━━━━━━━━━━━━━━━━━\u001b[0m\u001b[37m\u001b[0m \u001b[1m4s\u001b[0m 320ms/step - loss: 8.0582e-05 - val_loss: 1.6469e-04\n"
     ]
    },
    {
     "data": {
      "text/plain": [
       "<keras.src.callbacks.history.History at 0x1dfb103a9b0>"
      ]
     },
     "execution_count": 102,
     "metadata": {},
     "output_type": "execute_result"
    }
   ],
   "source": [
    "model.fit(X_train,y_train,validation_data=(X_test,ytest),epochs=100,batch_size=64,verbose=1)"
   ]
  },
  {
   "cell_type": "code",
   "execution_count": 103,
   "id": "06bf5c7d-0c3e-48e1-af83-8fb67afd154d",
   "metadata": {},
   "outputs": [
    {
     "name": "stderr",
     "output_type": "stream",
     "text": [
      "WARNING:absl:You are saving your model as an HDF5 file via `model.save()` or `keras.saving.save_model(model)`. This file format is considered legacy. We recommend using instead the native Keras format, e.g. `model.save('my_model.keras')` or `keras.saving.save_model(model, 'my_model.keras')`. \n"
     ]
    },
    {
     "name": "stdout",
     "output_type": "stream",
     "text": [
      "Model saved successfully as 'my_lstm_model.h5'\n"
     ]
    }
   ],
   "source": [
    "# After your model.fit(X_train, y_train, ...) call\n",
    "# For example, if your model object is named 'model'\n",
    "model.save('my_lstm_model.h5')\n",
    "print(\"Model saved successfully as 'my_lstm_model.h5'\")"
   ]
  },
  {
   "cell_type": "code",
   "execution_count": 104,
   "id": "556d93bd-68ca-4dcc-8a0d-d133937df792",
   "metadata": {},
   "outputs": [],
   "source": [
    "import tensorflow as tf"
   ]
  },
  {
   "cell_type": "code",
   "execution_count": 105,
   "id": "629643b0-e826-4a0e-9995-f9c73ca81683",
   "metadata": {},
   "outputs": [
    {
     "data": {
      "text/plain": [
       "'2.19.0'"
      ]
     },
     "execution_count": 105,
     "metadata": {},
     "output_type": "execute_result"
    }
   ],
   "source": [
    "tf.__version__"
   ]
  },
  {
   "cell_type": "code",
   "execution_count": 106,
   "id": "bfb94686-bf4a-4fa3-b928-f473d7b7820b",
   "metadata": {},
   "outputs": [
    {
     "name": "stdout",
     "output_type": "stream",
     "text": [
      "\u001b[1m23/23\u001b[0m \u001b[32m━━━━━━━━━━━━━━━━━━━━\u001b[0m\u001b[37m\u001b[0m \u001b[1m2s\u001b[0m 71ms/step\n",
      "\u001b[1m11/11\u001b[0m \u001b[32m━━━━━━━━━━━━━━━━━━━━\u001b[0m\u001b[37m\u001b[0m \u001b[1m1s\u001b[0m 51ms/step\n"
     ]
    }
   ],
   "source": [
    "### Lets Do the prediction and check performance metrics\n",
    "train_predict=model.predict(X_train)\n",
    "test_predict=model.predict(X_test)"
   ]
  },
  {
   "cell_type": "code",
   "execution_count": 107,
   "id": "c723a570-0f85-45a9-8a8a-52bbdb3e24e5",
   "metadata": {},
   "outputs": [
    {
     "data": {
      "text/plain": [
       "0.009171803678760903"
      ]
     },
     "execution_count": 107,
     "metadata": {},
     "output_type": "execute_result"
    }
   ],
   "source": [
    "### Calculate RMSE performance metrics\n",
    "import math\n",
    "from sklearn.metrics import mean_squared_error\n",
    "math.sqrt(mean_squared_error(y_train,train_predict))"
   ]
  },
  {
   "cell_type": "code",
   "execution_count": 108,
   "id": "8f8bf871-4b0b-4c5a-8a9b-e122a4ec1c34",
   "metadata": {},
   "outputs": [
    {
     "data": {
      "text/plain": [
       "0.012833256487367132"
      ]
     },
     "execution_count": 108,
     "metadata": {},
     "output_type": "execute_result"
    }
   ],
   "source": [
    "### Test Data RMSE\n",
    "math.sqrt(mean_squared_error(ytest,test_predict))"
   ]
  },
  {
   "cell_type": "code",
   "execution_count": 109,
   "id": "c20e94b0-1707-47c9-9fe7-e862ebefd0f4",
   "metadata": {},
   "outputs": [
    {
     "data": {
      "image/png": "[encoded data removed]",
      "text/plain": [
       "<Figure size 640x480 with 1 Axes>"
      ]
     },
     "metadata": {},
     "output_type": "display_data"
    }
   ],
   "source": [
    "### Plotting \n",
    "# shift train predictions for plotting\n",
    "look_back=100\n",
    "trainPredictPlot = numpy.empty_like(df1)\n",
    "trainPredictPlot[:, :] = np.nan\n",
    "trainPredictPlot[look_back:len(train_predict)+look_back, :] = train_predict\n",
    "# shift test predictions for plotting\n",
    "testPredictPlot = numpy.empty_like(df1)\n",
    "testPredictPlot[:, :] = numpy.nan\n",
    "testPredictPlot[len(train_predict)+(look_back*2)+1:len(df1)-1, :] = test_predict\n",
    "# plot baseline and predictions\n",
    "plt.plot(scaler.inverse_transform(df1))\n",
    "plt.plot(trainPredictPlot)\n",
    "plt.plot(testPredictPlot)\n",
    "plt.show()"
   ]
  },
  {
   "cell_type": "code",
   "execution_count": 110,
   "id": "b9688384-2f08-4bae-b326-bf9b057a4be8",
   "metadata": {},
   "outputs": [
    {
     "data": {
      "text/plain": [
       "440"
      ]
     },
     "execution_count": 110,
     "metadata": {},
     "output_type": "execute_result"
    }
   ],
   "source": [
    "len(test_data)"
   ]
  },
  {
   "cell_type": "code",
   "execution_count": 111,
   "id": "3a377418-0bd3-44a5-b853-2e43f37947e3",
   "metadata": {},
   "outputs": [
    {
     "data": {
      "text/plain": [
       "(1, 99)"
      ]
     },
     "execution_count": 111,
     "metadata": {},
     "output_type": "execute_result"
    }
   ],
   "source": [
    "x_input=test_data[341:].reshape(1,-1)\n",
    "x_input.shape"
   ]
  },
  {
   "cell_type": "code",
   "execution_count": 112,
   "id": "531b642b-353d-4bbb-8f62-97ae0a3a4eb1",
   "metadata": {},
   "outputs": [],
   "source": [
    "temp_input=list(x_input)\n",
    "temp_input=temp_input[0].tolist()"
   ]
  },
  {
   "cell_type": "code",
   "execution_count": 113,
   "id": "23fd50d4-7936-40a6-9f72-acd08256f8c8",
   "metadata": {},
   "outputs": [
    {
     "data": {
      "text/plain": [
       "[0.3344270507201002,\n",
       " 0.326762680025047,\n",
       " 0.3381340012523481,\n",
       " 0.32859110832811517,\n",
       " 0.323331246086412,\n",
       " 0.3228553537883531,\n",
       " 0.3218284283030682,\n",
       " 0.331195992485911,\n",
       " 0.30216656230432054,\n",
       " 0.28553537883531616,\n",
       " 0.2758672510958045,\n",
       " 0.2575829680651221,\n",
       " 0.26712586098935504,\n",
       " 0.26840325610519716,\n",
       " 0.2651221039448966,\n",
       " 0.2715090795241077,\n",
       " 0.26865372573575447,\n",
       " 0.27909830932999374,\n",
       " 0.28525986224170313,\n",
       " 0.29282404508453347,\n",
       " 0.28726361928616145,\n",
       " 0.2930745147150908,\n",
       " 0.2781715716969317,\n",
       " 0.2887664370695053,\n",
       " 0.29142141515341263,\n",
       " 0.29317470256731365,\n",
       " 0.2413274890419536,\n",
       " 0.20423293675641824,\n",
       " 0.18690043832185343,\n",
       " 0.16425798371947392,\n",
       " 0.230457107075767,\n",
       " 0.20934251721978703,\n",
       " 0.22870381966186598,\n",
       " 0.23964934251721975,\n",
       " 0.23869755792110198,\n",
       " 0.21898559799624295,\n",
       " 0.2257733249843456,\n",
       " 0.21620538509705695,\n",
       " 0.23268628678772701,\n",
       " 0.24485911083281148,\n",
       " 0.25430181590482154,\n",
       " 0.2565810895428929,\n",
       " 0.25873512836568563,\n",
       " 0.2614151534126487,\n",
       " 0.2646462116468378,\n",
       " 0.2667000626174076,\n",
       " 0.2467376330619912,\n",
       " 0.23055729492798988,\n",
       " 0.2296055103318722,\n",
       " 0.22394489668127737,\n",
       " 0.22705072010018784,\n",
       " 0.22965560425798365,\n",
       " 0.26036318096430805,\n",
       " 0.2657232310582342,\n",
       " 0.2642204132748904,\n",
       " 0.2620162805259862,\n",
       " 0.2615403882279273,\n",
       " 0.25532874139010636,\n",
       " 0.25051972448340637,\n",
       " 0.23857232310582338,\n",
       " 0.2367438948027552,\n",
       " 0.22149029430181588,\n",
       " 0.23386349405134627,\n",
       " 0.23438948027551648,\n",
       " 0.23321227301189723,\n",
       " 0.23546649968691286,\n",
       " 0.23759549154664988,\n",
       " 0.24152786474639948,\n",
       " 0.24040075140889156,\n",
       " 0.2349154664996868,\n",
       " 0.2431559173450218,\n",
       " 0.23696931747025668,\n",
       " 0.24002504696305565,\n",
       " 0.2302817783343769,\n",
       " 0.2313337507827175,\n",
       " 0.22444583594239192,\n",
       " 0.22938008766437062,\n",
       " 0.22241703193487783,\n",
       " 0.22477144646211644,\n",
       " 0.23584220413274887,\n",
       " 0.23709455228553528,\n",
       " 0.23408891671884785,\n",
       " 0.2372448340638697,\n",
       " 0.23584220413274887,\n",
       " 0.23604257983719473,\n",
       " 0.24628678772698803,\n",
       " 0.2529242329367563,\n",
       " 0.2644959298685034,\n",
       " 0.26727614276768935,\n",
       " 0.25825923606762674,\n",
       " 0.25840951784596106,\n",
       " 0.26123982467125856,\n",
       " 0.26442078897933624,\n",
       " 0.26128991859737,\n",
       " 0.25492798998121474,\n",
       " 0.25615529117094554,\n",
       " 0.25878522229179707,\n",
       " 0.2584345648090169,\n",
       " 0.26134001252348155]"
      ]
     },
     "execution_count": 113,
     "metadata": {},
     "output_type": "execute_result"
    }
   ],
   "source": [
    "temp_input"
   ]
  },
  {
   "cell_type": "code",
   "execution_count": 118,
   "id": "b74ad6e1-6d73-4333-9ba7-b809fc1acd3f",
   "metadata": {},
   "outputs": [
    {
     "name": "stdout",
     "output_type": "stream",
     "text": [
      "0 day input [0.20934252 0.22870382 0.23964934 0.23869756 0.2189856  0.22577332\n",
      " 0.21620539 0.23268629 0.24485911 0.25430182 0.25658109 0.25873513\n",
      " 0.26141515 0.26464621 0.26670006 0.24673763 0.23055729 0.22960551\n",
      " 0.2239449  0.22705072 0.2296556  0.26036318 0.26572323 0.26422041\n",
      " 0.26201628 0.26154039 0.25532874 0.25051972 0.23857232 0.23674389\n",
      " 0.22149029 0.23386349 0.23438948 0.23321227 0.2354665  0.23759549\n",
      " 0.24152786 0.24040075 0.23491547 0.24315592 0.23696932 0.24002505\n",
      " 0.23028178 0.23133375 0.22444584 0.22938009 0.22241703 0.22477145\n",
      " 0.2358422  0.23709455 0.23408892 0.23724483 0.2358422  0.23604258\n",
      " 0.24628679 0.25292423 0.26449593 0.26727614 0.25825924 0.25840952\n",
      " 0.26123982 0.26442079 0.26128992 0.25492799 0.25615529 0.25878522\n",
      " 0.25843456 0.26134001 0.26117235 0.26117235 0.2642633  0.26542512\n",
      " 0.26665205 0.26781559 0.26885173 0.26975504 0.27054918 0.2712675\n",
      " 0.27194414 0.27260849 0.27328357 0.27398413 0.27471709 0.27548245\n",
      " 0.27627498 0.27708641 0.27790678 0.27872655 0.27953741 0.28033343\n",
      " 0.28111058 0.28186759 0.2826046  0.28332344 0.28402668 0.28471705\n",
      " 0.28539714 0.28606924 0.28673488 0.28739488]\n",
      "0 day output [[0.2880495]]\n",
      "1 day input [0.22870382 0.23964934 0.23869756 0.2189856  0.22577332 0.21620539\n",
      " 0.23268629 0.24485911 0.25430182 0.25658109 0.25873513 0.26141515\n",
      " 0.26464621 0.26670006 0.24673763 0.23055729 0.22960551 0.2239449\n",
      " 0.22705072 0.2296556  0.26036318 0.26572323 0.26422041 0.26201628\n",
      " 0.26154039 0.25532874 0.25051972 0.23857232 0.23674389 0.22149029\n",
      " 0.23386349 0.23438948 0.23321227 0.2354665  0.23759549 0.24152786\n",
      " 0.24040075 0.23491547 0.24315592 0.23696932 0.24002505 0.23028178\n",
      " 0.23133375 0.22444584 0.22938009 0.22241703 0.22477145 0.2358422\n",
      " 0.23709455 0.23408892 0.23724483 0.2358422  0.23604258 0.24628679\n",
      " 0.25292423 0.26449593 0.26727614 0.25825924 0.25840952 0.26123982\n",
      " 0.26442079 0.26128992 0.25492799 0.25615529 0.25878522 0.25843456\n",
      " 0.26134001 0.26117235 0.26117235 0.2642633  0.26542512 0.26665205\n",
      " 0.26781559 0.26885173 0.26975504 0.27054918 0.2712675  0.27194414\n",
      " 0.27260849 0.27328357 0.27398413 0.27471709 0.27548245 0.27627498\n",
      " 0.27708641 0.27790678 0.27872655 0.27953741 0.28033343 0.28111058\n",
      " 0.28186759 0.2826046  0.28332344 0.28402668 0.28471705 0.28539714\n",
      " 0.28606924 0.28673488 0.28739488 0.28804949]\n",
      "1 day output [[0.28869852]]\n",
      "2 day input [0.23964934 0.23869756 0.2189856  0.22577332 0.21620539 0.23268629\n",
      " 0.24485911 0.25430182 0.25658109 0.25873513 0.26141515 0.26464621\n",
      " 0.26670006 0.24673763 0.23055729 0.22960551 0.2239449  0.22705072\n",
      " 0.2296556  0.26036318 0.26572323 0.26422041 0.26201628 0.26154039\n",
      " 0.25532874 0.25051972 0.23857232 0.23674389 0.22149029 0.23386349\n",
      " 0.23438948 0.23321227 0.2354665  0.23759549 0.24152786 0.24040075\n",
      " 0.23491547 0.24315592 0.23696932 0.24002505 0.23028178 0.23133375\n",
      " 0.22444584 0.22938009 0.22241703 0.22477145 0.2358422  0.23709455\n",
      " 0.23408892 0.23724483 0.2358422  0.23604258 0.24628679 0.25292423\n",
      " 0.26449593 0.26727614 0.25825924 0.25840952 0.26123982 0.26442079\n",
      " 0.26128992 0.25492799 0.25615529 0.25878522 0.25843456 0.26134001\n",
      " 0.26117235 0.26117235 0.2642633  0.26542512 0.26665205 0.26781559\n",
      " 0.26885173 0.26975504 0.27054918 0.2712675  0.27194414 0.27260849\n",
      " 0.27328357 0.27398413 0.27471709 0.27548245 0.27627498 0.27708641\n",
      " 0.27790678 0.27872655 0.27953741 0.28033343 0.28111058 0.28186759\n",
      " 0.2826046  0.28332344 0.28402668 0.28471705 0.28539714 0.28606924\n",
      " 0.28673488 0.28739488 0.28804949 0.28869852]\n",
      "2 day output [[0.28934136]]\n",
      "3 day input [0.23869756 0.2189856  0.22577332 0.21620539 0.23268629 0.24485911\n",
      " 0.25430182 0.25658109 0.25873513 0.26141515 0.26464621 0.26670006\n",
      " 0.24673763 0.23055729 0.22960551 0.2239449  0.22705072 0.2296556\n",
      " 0.26036318 0.26572323 0.26422041 0.26201628 0.26154039 0.25532874\n",
      " 0.25051972 0.23857232 0.23674389 0.22149029 0.23386349 0.23438948\n",
      " 0.23321227 0.2354665  0.23759549 0.24152786 0.24040075 0.23491547\n",
      " 0.24315592 0.23696932 0.24002505 0.23028178 0.23133375 0.22444584\n",
      " 0.22938009 0.22241703 0.22477145 0.2358422  0.23709455 0.23408892\n",
      " 0.23724483 0.2358422  0.23604258 0.24628679 0.25292423 0.26449593\n",
      " 0.26727614 0.25825924 0.25840952 0.26123982 0.26442079 0.26128992\n",
      " 0.25492799 0.25615529 0.25878522 0.25843456 0.26134001 0.26117235\n",
      " 0.26117235 0.2642633  0.26542512 0.26665205 0.26781559 0.26885173\n",
      " 0.26975504 0.27054918 0.2712675  0.27194414 0.27260849 0.27328357\n",
      " 0.27398413 0.27471709 0.27548245 0.27627498 0.27708641 0.27790678\n",
      " 0.27872655 0.27953741 0.28033343 0.28111058 0.28186759 0.2826046\n",
      " 0.28332344 0.28402668 0.28471705 0.28539714 0.28606924 0.28673488\n",
      " 0.28739488 0.28804949 0.28869852 0.28934136]\n",
      "3 day output [[0.28997725]]\n",
      "4 day input [0.2189856  0.22577332 0.21620539 0.23268629 0.24485911 0.25430182\n",
      " 0.25658109 0.25873513 0.26141515 0.26464621 0.26670006 0.24673763\n",
      " 0.23055729 0.22960551 0.2239449  0.22705072 0.2296556  0.26036318\n",
      " 0.26572323 0.26422041 0.26201628 0.26154039 0.25532874 0.25051972\n",
      " 0.23857232 0.23674389 0.22149029 0.23386349 0.23438948 0.23321227\n",
      " 0.2354665  0.23759549 0.24152786 0.24040075 0.23491547 0.24315592\n",
      " 0.23696932 0.24002505 0.23028178 0.23133375 0.22444584 0.22938009\n",
      " 0.22241703 0.22477145 0.2358422  0.23709455 0.23408892 0.23724483\n",
      " 0.2358422  0.23604258 0.24628679 0.25292423 0.26449593 0.26727614\n",
      " 0.25825924 0.25840952 0.26123982 0.26442079 0.26128992 0.25492799\n",
      " 0.25615529 0.25878522 0.25843456 0.26134001 0.26117235 0.26117235\n",
      " 0.2642633  0.26542512 0.26665205 0.26781559 0.26885173 0.26975504\n",
      " 0.27054918 0.2712675  0.27194414 0.27260849 0.27328357 0.27398413\n",
      " 0.27471709 0.27548245 0.27627498 0.27708641 0.27790678 0.27872655\n",
      " 0.27953741 0.28033343 0.28111058 0.28186759 0.2826046  0.28332344\n",
      " 0.28402668 0.28471705 0.28539714 0.28606924 0.28673488 0.28739488\n",
      " 0.28804949 0.28869852 0.28934136 0.28997725]\n",
      "4 day output [[0.29060543]]\n",
      "5 day input [0.22577332 0.21620539 0.23268629 0.24485911 0.25430182 0.25658109\n",
      " 0.25873513 0.26141515 0.26464621 0.26670006 0.24673763 0.23055729\n",
      " 0.22960551 0.2239449  0.22705072 0.2296556  0.26036318 0.26572323\n",
      " 0.26422041 0.26201628 0.26154039 0.25532874 0.25051972 0.23857232\n",
      " 0.23674389 0.22149029 0.23386349 0.23438948 0.23321227 0.2354665\n",
      " 0.23759549 0.24152786 0.24040075 0.23491547 0.24315592 0.23696932\n",
      " 0.24002505 0.23028178 0.23133375 0.22444584 0.22938009 0.22241703\n",
      " 0.22477145 0.2358422  0.23709455 0.23408892 0.23724483 0.2358422\n",
      " 0.23604258 0.24628679 0.25292423 0.26449593 0.26727614 0.25825924\n",
      " 0.25840952 0.26123982 0.26442079 0.26128992 0.25492799 0.25615529\n",
      " 0.25878522 0.25843456 0.26134001 0.26117235 0.26117235 0.2642633\n",
      " 0.26542512 0.26665205 0.26781559 0.26885173 0.26975504 0.27054918\n",
      " 0.2712675  0.27194414 0.27260849 0.27328357 0.27398413 0.27471709\n",
      " 0.27548245 0.27627498 0.27708641 0.27790678 0.27872655 0.27953741\n",
      " 0.28033343 0.28111058 0.28186759 0.2826046  0.28332344 0.28402668\n",
      " 0.28471705 0.28539714 0.28606924 0.28673488 0.28739488 0.28804949\n",
      " 0.28869852 0.28934136 0.28997725 0.29060543]\n",
      "5 day output [[0.29122522]]\n",
      "6 day input [0.21620539 0.23268629 0.24485911 0.25430182 0.25658109 0.25873513\n",
      " 0.26141515 0.26464621 0.26670006 0.24673763 0.23055729 0.22960551\n",
      " 0.2239449  0.22705072 0.2296556  0.26036318 0.26572323 0.26422041\n",
      " 0.26201628 0.26154039 0.25532874 0.25051972 0.23857232 0.23674389\n",
      " 0.22149029 0.23386349 0.23438948 0.23321227 0.2354665  0.23759549\n",
      " 0.24152786 0.24040075 0.23491547 0.24315592 0.23696932 0.24002505\n",
      " 0.23028178 0.23133375 0.22444584 0.22938009 0.22241703 0.22477145\n",
      " 0.2358422  0.23709455 0.23408892 0.23724483 0.2358422  0.23604258\n",
      " 0.24628679 0.25292423 0.26449593 0.26727614 0.25825924 0.25840952\n",
      " 0.26123982 0.26442079 0.26128992 0.25492799 0.25615529 0.25878522\n",
      " 0.25843456 0.26134001 0.26117235 0.26117235 0.2642633  0.26542512\n",
      " 0.26665205 0.26781559 0.26885173 0.26975504 0.27054918 0.2712675\n",
      " 0.27194414 0.27260849 0.27328357 0.27398413 0.27471709 0.27548245\n",
      " 0.27627498 0.27708641 0.27790678 0.27872655 0.27953741 0.28033343\n",
      " 0.28111058 0.28186759 0.2826046  0.28332344 0.28402668 0.28471705\n",
      " 0.28539714 0.28606924 0.28673488 0.28739488 0.28804949 0.28869852\n",
      " 0.28934136 0.28997725 0.29060543 0.29122522]\n",
      "6 day output [[0.29183605]]\n",
      "7 day input [0.23268629 0.24485911 0.25430182 0.25658109 0.25873513 0.26141515\n",
      " 0.26464621 0.26670006 0.24673763 0.23055729 0.22960551 0.2239449\n",
      " 0.22705072 0.2296556  0.26036318 0.26572323 0.26422041 0.26201628\n",
      " 0.26154039 0.25532874 0.25051972 0.23857232 0.23674389 0.22149029\n",
      " 0.23386349 0.23438948 0.23321227 0.2354665  0.23759549 0.24152786\n",
      " 0.24040075 0.23491547 0.24315592 0.23696932 0.24002505 0.23028178\n",
      " 0.23133375 0.22444584 0.22938009 0.22241703 0.22477145 0.2358422\n",
      " 0.23709455 0.23408892 0.23724483 0.2358422  0.23604258 0.24628679\n",
      " 0.25292423 0.26449593 0.26727614 0.25825924 0.25840952 0.26123982\n",
      " 0.26442079 0.26128992 0.25492799 0.25615529 0.25878522 0.25843456\n",
      " 0.26134001 0.26117235 0.26117235 0.2642633  0.26542512 0.26665205\n",
      " 0.26781559 0.26885173 0.26975504 0.27054918 0.2712675  0.27194414\n",
      " 0.27260849 0.27328357 0.27398413 0.27471709 0.27548245 0.27627498\n",
      " 0.27708641 0.27790678 0.27872655 0.27953741 0.28033343 0.28111058\n",
      " 0.28186759 0.2826046  0.28332344 0.28402668 0.28471705 0.28539714\n",
      " 0.28606924 0.28673488 0.28739488 0.28804949 0.28869852 0.28934136\n",
      " 0.28997725 0.29060543 0.29122522 0.29183605]\n",
      "7 day output [[0.29243764]]\n",
      "8 day input [0.24485911 0.25430182 0.25658109 0.25873513 0.26141515 0.26464621\n",
      " 0.26670006 0.24673763 0.23055729 0.22960551 0.2239449  0.22705072\n",
      " 0.2296556  0.26036318 0.26572323 0.26422041 0.26201628 0.26154039\n",
      " 0.25532874 0.25051972 0.23857232 0.23674389 0.22149029 0.23386349\n",
      " 0.23438948 0.23321227 0.2354665  0.23759549 0.24152786 0.24040075\n",
      " 0.23491547 0.24315592 0.23696932 0.24002505 0.23028178 0.23133375\n",
      " 0.22444584 0.22938009 0.22241703 0.22477145 0.2358422  0.23709455\n",
      " 0.23408892 0.23724483 0.2358422  0.23604258 0.24628679 0.25292423\n",
      " 0.26449593 0.26727614 0.25825924 0.25840952 0.26123982 0.26442079\n",
      " 0.26128992 0.25492799 0.25615529 0.25878522 0.25843456 0.26134001\n",
      " 0.26117235 0.26117235 0.2642633  0.26542512 0.26665205 0.26781559\n",
      " 0.26885173 0.26975504 0.27054918 0.2712675  0.27194414 0.27260849\n",
      " 0.27328357 0.27398413 0.27471709 0.27548245 0.27627498 0.27708641\n",
      " 0.27790678 0.27872655 0.27953741 0.28033343 0.28111058 0.28186759\n",
      " 0.2826046  0.28332344 0.28402668 0.28471705 0.28539714 0.28606924\n",
      " 0.28673488 0.28739488 0.28804949 0.28869852 0.28934136 0.28997725\n",
      " 0.29060543 0.29122522 0.29183605 0.29243764]\n",
      "8 day output [[0.29302987]]\n",
      "9 day input [0.25430182 0.25658109 0.25873513 0.26141515 0.26464621 0.26670006\n",
      " 0.24673763 0.23055729 0.22960551 0.2239449  0.22705072 0.2296556\n",
      " 0.26036318 0.26572323 0.26422041 0.26201628 0.26154039 0.25532874\n",
      " 0.25051972 0.23857232 0.23674389 0.22149029 0.23386349 0.23438948\n",
      " 0.23321227 0.2354665  0.23759549 0.24152786 0.24040075 0.23491547\n",
      " 0.24315592 0.23696932 0.24002505 0.23028178 0.23133375 0.22444584\n",
      " 0.22938009 0.22241703 0.22477145 0.2358422  0.23709455 0.23408892\n",
      " 0.23724483 0.2358422  0.23604258 0.24628679 0.25292423 0.26449593\n",
      " 0.26727614 0.25825924 0.25840952 0.26123982 0.26442079 0.26128992\n",
      " 0.25492799 0.25615529 0.25878522 0.25843456 0.26134001 0.26117235\n",
      " 0.26117235 0.2642633  0.26542512 0.26665205 0.26781559 0.26885173\n",
      " 0.26975504 0.27054918 0.2712675  0.27194414 0.27260849 0.27328357\n",
      " 0.27398413 0.27471709 0.27548245 0.27627498 0.27708641 0.27790678\n",
      " 0.27872655 0.27953741 0.28033343 0.28111058 0.28186759 0.2826046\n",
      " 0.28332344 0.28402668 0.28471705 0.28539714 0.28606924 0.28673488\n",
      " 0.28739488 0.28804949 0.28869852 0.28934136 0.28997725 0.29060543\n",
      " 0.29122522 0.29183605 0.29243764 0.29302987]\n",
      "9 day output [[0.29361278]]\n",
      "10 day input [0.25658109 0.25873513 0.26141515 0.26464621 0.26670006 0.24673763\n",
      " 0.23055729 0.22960551 0.2239449  0.22705072 0.2296556  0.26036318\n",
      " 0.26572323 0.26422041 0.26201628 0.26154039 0.25532874 0.25051972\n",
      " 0.23857232 0.23674389 0.22149029 0.23386349 0.23438948 0.23321227\n",
      " 0.2354665  0.23759549 0.24152786 0.24040075 0.23491547 0.24315592\n",
      " 0.23696932 0.24002505 0.23028178 0.23133375 0.22444584 0.22938009\n",
      " 0.22241703 0.22477145 0.2358422  0.23709455 0.23408892 0.23724483\n",
      " 0.2358422  0.23604258 0.24628679 0.25292423 0.26449593 0.26727614\n",
      " 0.25825924 0.25840952 0.26123982 0.26442079 0.26128992 0.25492799\n",
      " 0.25615529 0.25878522 0.25843456 0.26134001 0.26117235 0.26117235\n",
      " 0.2642633  0.26542512 0.26665205 0.26781559 0.26885173 0.26975504\n",
      " 0.27054918 0.2712675  0.27194414 0.27260849 0.27328357 0.27398413\n",
      " 0.27471709 0.27548245 0.27627498 0.27708641 0.27790678 0.27872655\n",
      " 0.27953741 0.28033343 0.28111058 0.28186759 0.2826046  0.28332344\n",
      " 0.28402668 0.28471705 0.28539714 0.28606924 0.28673488 0.28739488\n",
      " 0.28804949 0.28869852 0.28934136 0.28997725 0.29060543 0.29122522\n",
      " 0.29183605 0.29243764 0.29302987 0.29361278]\n",
      "10 day output [[0.2941866]]\n",
      "11 day input [0.25873513 0.26141515 0.26464621 0.26670006 0.24673763 0.23055729\n",
      " 0.22960551 0.2239449  0.22705072 0.2296556  0.26036318 0.26572323\n",
      " 0.26422041 0.26201628 0.26154039 0.25532874 0.25051972 0.23857232\n",
      " 0.23674389 0.22149029 0.23386349 0.23438948 0.23321227 0.2354665\n",
      " 0.23759549 0.24152786 0.24040075 0.23491547 0.24315592 0.23696932\n",
      " 0.24002505 0.23028178 0.23133375 0.22444584 0.22938009 0.22241703\n",
      " 0.22477145 0.2358422  0.23709455 0.23408892 0.23724483 0.2358422\n",
      " 0.23604258 0.24628679 0.25292423 0.26449593 0.26727614 0.25825924\n",
      " 0.25840952 0.26123982 0.26442079 0.26128992 0.25492799 0.25615529\n",
      " 0.25878522 0.25843456 0.26134001 0.26117235 0.26117235 0.2642633\n",
      " 0.26542512 0.26665205 0.26781559 0.26885173 0.26975504 0.27054918\n",
      " 0.2712675  0.27194414 0.27260849 0.27328357 0.27398413 0.27471709\n",
      " 0.27548245 0.27627498 0.27708641 0.27790678 0.27872655 0.27953741\n",
      " 0.28033343 0.28111058 0.28186759 0.2826046  0.28332344 0.28402668\n",
      " 0.28471705 0.28539714 0.28606924 0.28673488 0.28739488 0.28804949\n",
      " 0.28869852 0.28934136 0.28997725 0.29060543 0.29122522 0.29183605\n",
      " 0.29243764 0.29302987 0.29361278 0.29418659]\n",
      "11 day output [[0.29475155]]\n",
      "12 day input [0.26141515 0.26464621 0.26670006 0.24673763 0.23055729 0.22960551\n",
      " 0.2239449  0.22705072 0.2296556  0.26036318 0.26572323 0.26422041\n",
      " 0.26201628 0.26154039 0.25532874 0.25051972 0.23857232 0.23674389\n",
      " 0.22149029 0.23386349 0.23438948 0.23321227 0.2354665  0.23759549\n",
      " 0.24152786 0.24040075 0.23491547 0.24315592 0.23696932 0.24002505\n",
      " 0.23028178 0.23133375 0.22444584 0.22938009 0.22241703 0.22477145\n",
      " 0.2358422  0.23709455 0.23408892 0.23724483 0.2358422  0.23604258\n",
      " 0.24628679 0.25292423 0.26449593 0.26727614 0.25825924 0.25840952\n",
      " 0.26123982 0.26442079 0.26128992 0.25492799 0.25615529 0.25878522\n",
      " 0.25843456 0.26134001 0.26117235 0.26117235 0.2642633  0.26542512\n",
      " 0.26665205 0.26781559 0.26885173 0.26975504 0.27054918 0.2712675\n",
      " 0.27194414 0.27260849 0.27328357 0.27398413 0.27471709 0.27548245\n",
      " 0.27627498 0.27708641 0.27790678 0.27872655 0.27953741 0.28033343\n",
      " 0.28111058 0.28186759 0.2826046  0.28332344 0.28402668 0.28471705\n",
      " 0.28539714 0.28606924 0.28673488 0.28739488 0.28804949 0.28869852\n",
      " 0.28934136 0.28997725 0.29060543 0.29122522 0.29183605 0.29243764\n",
      " 0.29302987 0.29361278 0.29418659 0.29475155]\n",
      "12 day output [[0.29530805]]\n",
      "13 day input [0.26464621 0.26670006 0.24673763 0.23055729 0.22960551 0.2239449\n",
      " 0.22705072 0.2296556  0.26036318 0.26572323 0.26422041 0.26201628\n",
      " 0.26154039 0.25532874 0.25051972 0.23857232 0.23674389 0.22149029\n",
      " 0.23386349 0.23438948 0.23321227 0.2354665  0.23759549 0.24152786\n",
      " 0.24040075 0.23491547 0.24315592 0.23696932 0.24002505 0.23028178\n",
      " 0.23133375 0.22444584 0.22938009 0.22241703 0.22477145 0.2358422\n",
      " 0.23709455 0.23408892 0.23724483 0.2358422  0.23604258 0.24628679\n",
      " 0.25292423 0.26449593 0.26727614 0.25825924 0.25840952 0.26123982\n",
      " 0.26442079 0.26128992 0.25492799 0.25615529 0.25878522 0.25843456\n",
      " 0.26134001 0.26117235 0.26117235 0.2642633  0.26542512 0.26665205\n",
      " 0.26781559 0.26885173 0.26975504 0.27054918 0.2712675  0.27194414\n",
      " 0.27260849 0.27328357 0.27398413 0.27471709 0.27548245 0.27627498\n",
      " 0.27708641 0.27790678 0.27872655 0.27953741 0.28033343 0.28111058\n",
      " 0.28186759 0.2826046  0.28332344 0.28402668 0.28471705 0.28539714\n",
      " 0.28606924 0.28673488 0.28739488 0.28804949 0.28869852 0.28934136\n",
      " 0.28997725 0.29060543 0.29122522 0.29183605 0.29243764 0.29302987\n",
      " 0.29361278 0.29418659 0.29475155 0.29530805]\n",
      "13 day output [[0.29585624]]\n",
      "14 day input [0.26670006 0.24673763 0.23055729 0.22960551 0.2239449  0.22705072\n",
      " 0.2296556  0.26036318 0.26572323 0.26422041 0.26201628 0.26154039\n",
      " 0.25532874 0.25051972 0.23857232 0.23674389 0.22149029 0.23386349\n",
      " 0.23438948 0.23321227 0.2354665  0.23759549 0.24152786 0.24040075\n",
      " 0.23491547 0.24315592 0.23696932 0.24002505 0.23028178 0.23133375\n",
      " 0.22444584 0.22938009 0.22241703 0.22477145 0.2358422  0.23709455\n",
      " 0.23408892 0.23724483 0.2358422  0.23604258 0.24628679 0.25292423\n",
      " 0.26449593 0.26727614 0.25825924 0.25840952 0.26123982 0.26442079\n",
      " 0.26128992 0.25492799 0.25615529 0.25878522 0.25843456 0.26134001\n",
      " 0.26117235 0.26117235 0.2642633  0.26542512 0.26665205 0.26781559\n",
      " 0.26885173 0.26975504 0.27054918 0.2712675  0.27194414 0.27260849\n",
      " 0.27328357 0.27398413 0.27471709 0.27548245 0.27627498 0.27708641\n",
      " 0.27790678 0.27872655 0.27953741 0.28033343 0.28111058 0.28186759\n",
      " 0.2826046  0.28332344 0.28402668 0.28471705 0.28539714 0.28606924\n",
      " 0.28673488 0.28739488 0.28804949 0.28869852 0.28934136 0.28997725\n",
      " 0.29060543 0.29122522 0.29183605 0.29243764 0.29302987 0.29361278\n",
      " 0.29418659 0.29475155 0.29530805 0.29585624]\n",
      "14 day output [[0.29639667]]\n",
      "15 day input [0.24673763 0.23055729 0.22960551 0.2239449  0.22705072 0.2296556\n",
      " 0.26036318 0.26572323 0.26422041 0.26201628 0.26154039 0.25532874\n",
      " 0.25051972 0.23857232 0.23674389 0.22149029 0.23386349 0.23438948\n",
      " 0.23321227 0.2354665  0.23759549 0.24152786 0.24040075 0.23491547\n",
      " 0.24315592 0.23696932 0.24002505 0.23028178 0.23133375 0.22444584\n",
      " 0.22938009 0.22241703 0.22477145 0.2358422  0.23709455 0.23408892\n",
      " 0.23724483 0.2358422  0.23604258 0.24628679 0.25292423 0.26449593\n",
      " 0.26727614 0.25825924 0.25840952 0.26123982 0.26442079 0.26128992\n",
      " 0.25492799 0.25615529 0.25878522 0.25843456 0.26134001 0.26117235\n",
      " 0.26117235 0.2642633  0.26542512 0.26665205 0.26781559 0.26885173\n",
      " 0.26975504 0.27054918 0.2712675  0.27194414 0.27260849 0.27328357\n",
      " 0.27398413 0.27471709 0.27548245 0.27627498 0.27708641 0.27790678\n",
      " 0.27872655 0.27953741 0.28033343 0.28111058 0.28186759 0.2826046\n",
      " 0.28332344 0.28402668 0.28471705 0.28539714 0.28606924 0.28673488\n",
      " 0.28739488 0.28804949 0.28869852 0.28934136 0.28997725 0.29060543\n",
      " 0.29122522 0.29183605 0.29243764 0.29302987 0.29361278 0.29418659\n",
      " 0.29475155 0.29530805 0.29585624 0.29639667]\n",
      "15 day output [[0.2969294]]\n",
      "16 day input [0.23055729 0.22960551 0.2239449  0.22705072 0.2296556  0.26036318\n",
      " 0.26572323 0.26422041 0.26201628 0.26154039 0.25532874 0.25051972\n",
      " 0.23857232 0.23674389 0.22149029 0.23386349 0.23438948 0.23321227\n",
      " 0.2354665  0.23759549 0.24152786 0.24040075 0.23491547 0.24315592\n",
      " 0.23696932 0.24002505 0.23028178 0.23133375 0.22444584 0.22938009\n",
      " 0.22241703 0.22477145 0.2358422  0.23709455 0.23408892 0.23724483\n",
      " 0.2358422  0.23604258 0.24628679 0.25292423 0.26449593 0.26727614\n",
      " 0.25825924 0.25840952 0.26123982 0.26442079 0.26128992 0.25492799\n",
      " 0.25615529 0.25878522 0.25843456 0.26134001 0.26117235 0.26117235\n",
      " 0.2642633  0.26542512 0.26665205 0.26781559 0.26885173 0.26975504\n",
      " 0.27054918 0.2712675  0.27194414 0.27260849 0.27328357 0.27398413\n",
      " 0.27471709 0.27548245 0.27627498 0.27708641 0.27790678 0.27872655\n",
      " 0.27953741 0.28033343 0.28111058 0.28186759 0.2826046  0.28332344\n",
      " 0.28402668 0.28471705 0.28539714 0.28606924 0.28673488 0.28739488\n",
      " 0.28804949 0.28869852 0.28934136 0.28997725 0.29060543 0.29122522\n",
      " 0.29183605 0.29243764 0.29302987 0.29361278 0.29418659 0.29475155\n",
      " 0.29530805 0.29585624 0.29639667 0.29692939]\n",
      "16 day output [[0.29745466]]\n",
      "17 day input [0.22960551 0.2239449  0.22705072 0.2296556  0.26036318 0.26572323\n",
      " 0.26422041 0.26201628 0.26154039 0.25532874 0.25051972 0.23857232\n",
      " 0.23674389 0.22149029 0.23386349 0.23438948 0.23321227 0.2354665\n",
      " 0.23759549 0.24152786 0.24040075 0.23491547 0.24315592 0.23696932\n",
      " 0.24002505 0.23028178 0.23133375 0.22444584 0.22938009 0.22241703\n",
      " 0.22477145 0.2358422  0.23709455 0.23408892 0.23724483 0.2358422\n",
      " 0.23604258 0.24628679 0.25292423 0.26449593 0.26727614 0.25825924\n",
      " 0.25840952 0.26123982 0.26442079 0.26128992 0.25492799 0.25615529\n",
      " 0.25878522 0.25843456 0.26134001 0.26117235 0.26117235 0.2642633\n",
      " 0.26542512 0.26665205 0.26781559 0.26885173 0.26975504 0.27054918\n",
      " 0.2712675  0.27194414 0.27260849 0.27328357 0.27398413 0.27471709\n",
      " 0.27548245 0.27627498 0.27708641 0.27790678 0.27872655 0.27953741\n",
      " 0.28033343 0.28111058 0.28186759 0.2826046  0.28332344 0.28402668\n",
      " 0.28471705 0.28539714 0.28606924 0.28673488 0.28739488 0.28804949\n",
      " 0.28869852 0.28934136 0.28997725 0.29060543 0.29122522 0.29183605\n",
      " 0.29243764 0.29302987 0.29361278 0.29418659 0.29475155 0.29530805\n",
      " 0.29585624 0.29639667 0.29692939 0.29745466]\n",
      "17 day output [[0.29797256]]\n",
      "18 day input [0.2239449  0.22705072 0.2296556  0.26036318 0.26572323 0.26422041\n",
      " 0.26201628 0.26154039 0.25532874 0.25051972 0.23857232 0.23674389\n",
      " 0.22149029 0.23386349 0.23438948 0.23321227 0.2354665  0.23759549\n",
      " 0.24152786 0.24040075 0.23491547 0.24315592 0.23696932 0.24002505\n",
      " 0.23028178 0.23133375 0.22444584 0.22938009 0.22241703 0.22477145\n",
      " 0.2358422  0.23709455 0.23408892 0.23724483 0.2358422  0.23604258\n",
      " 0.24628679 0.25292423 0.26449593 0.26727614 0.25825924 0.25840952\n",
      " 0.26123982 0.26442079 0.26128992 0.25492799 0.25615529 0.25878522\n",
      " 0.25843456 0.26134001 0.26117235 0.26117235 0.2642633  0.26542512\n",
      " 0.26665205 0.26781559 0.26885173 0.26975504 0.27054918 0.2712675\n",
      " 0.27194414 0.27260849 0.27328357 0.27398413 0.27471709 0.27548245\n",
      " 0.27627498 0.27708641 0.27790678 0.27872655 0.27953741 0.28033343\n",
      " 0.28111058 0.28186759 0.2826046  0.28332344 0.28402668 0.28471705\n",
      " 0.28539714 0.28606924 0.28673488 0.28739488 0.28804949 0.28869852\n",
      " 0.28934136 0.28997725 0.29060543 0.29122522 0.29183605 0.29243764\n",
      " 0.29302987 0.29361278 0.29418659 0.29475155 0.29530805 0.29585624\n",
      " 0.29639667 0.29692939 0.29745466 0.29797256]\n",
      "18 day output [[0.2984831]]\n",
      "19 day input [0.22705072 0.2296556  0.26036318 0.26572323 0.26422041 0.26201628\n",
      " 0.26154039 0.25532874 0.25051972 0.23857232 0.23674389 0.22149029\n",
      " 0.23386349 0.23438948 0.23321227 0.2354665  0.23759549 0.24152786\n",
      " 0.24040075 0.23491547 0.24315592 0.23696932 0.24002505 0.23028178\n",
      " 0.23133375 0.22444584 0.22938009 0.22241703 0.22477145 0.2358422\n",
      " 0.23709455 0.23408892 0.23724483 0.2358422  0.23604258 0.24628679\n",
      " 0.25292423 0.26449593 0.26727614 0.25825924 0.25840952 0.26123982\n",
      " 0.26442079 0.26128992 0.25492799 0.25615529 0.25878522 0.25843456\n",
      " 0.26134001 0.26117235 0.26117235 0.2642633  0.26542512 0.26665205\n",
      " 0.26781559 0.26885173 0.26975504 0.27054918 0.2712675  0.27194414\n",
      " 0.27260849 0.27328357 0.27398413 0.27471709 0.27548245 0.27627498\n",
      " 0.27708641 0.27790678 0.27872655 0.27953741 0.28033343 0.28111058\n",
      " 0.28186759 0.2826046  0.28332344 0.28402668 0.28471705 0.28539714\n",
      " 0.28606924 0.28673488 0.28739488 0.28804949 0.28869852 0.28934136\n",
      " 0.28997725 0.29060543 0.29122522 0.29183605 0.29243764 0.29302987\n",
      " 0.29361278 0.29418659 0.29475155 0.29530805 0.29585624 0.29639667\n",
      " 0.29692939 0.29745466 0.29797256 0.2984831 ]\n",
      "19 day output [[0.29898646]]\n",
      "20 day input [0.2296556  0.26036318 0.26572323 0.26422041 0.26201628 0.26154039\n",
      " 0.25532874 0.25051972 0.23857232 0.23674389 0.22149029 0.23386349\n",
      " 0.23438948 0.23321227 0.2354665  0.23759549 0.24152786 0.24040075\n",
      " 0.23491547 0.24315592 0.23696932 0.24002505 0.23028178 0.23133375\n",
      " 0.22444584 0.22938009 0.22241703 0.22477145 0.2358422  0.23709455\n",
      " 0.23408892 0.23724483 0.2358422  0.23604258 0.24628679 0.25292423\n",
      " 0.26449593 0.26727614 0.25825924 0.25840952 0.26123982 0.26442079\n",
      " 0.26128992 0.25492799 0.25615529 0.25878522 0.25843456 0.26134001\n",
      " 0.26117235 0.26117235 0.2642633  0.26542512 0.26665205 0.26781559\n",
      " 0.26885173 0.26975504 0.27054918 0.2712675  0.27194414 0.27260849\n",
      " 0.27328357 0.27398413 0.27471709 0.27548245 0.27627498 0.27708641\n",
      " 0.27790678 0.27872655 0.27953741 0.28033343 0.28111058 0.28186759\n",
      " 0.2826046  0.28332344 0.28402668 0.28471705 0.28539714 0.28606924\n",
      " 0.28673488 0.28739488 0.28804949 0.28869852 0.28934136 0.28997725\n",
      " 0.29060543 0.29122522 0.29183605 0.29243764 0.29302987 0.29361278\n",
      " 0.29418659 0.29475155 0.29530805 0.29585624 0.29639667 0.29692939\n",
      " 0.29745466 0.29797256 0.2984831  0.29898646]\n",
      "20 day output [[0.29948252]]\n",
      "21 day input [0.26036318 0.26572323 0.26422041 0.26201628 0.26154039 0.25532874\n",
      " 0.25051972 0.23857232 0.23674389 0.22149029 0.23386349 0.23438948\n",
      " 0.23321227 0.2354665  0.23759549 0.24152786 0.24040075 0.23491547\n",
      " 0.24315592 0.23696932 0.24002505 0.23028178 0.23133375 0.22444584\n",
      " 0.22938009 0.22241703 0.22477145 0.2358422  0.23709455 0.23408892\n",
      " 0.23724483 0.2358422  0.23604258 0.24628679 0.25292423 0.26449593\n",
      " 0.26727614 0.25825924 0.25840952 0.26123982 0.26442079 0.26128992\n",
      " 0.25492799 0.25615529 0.25878522 0.25843456 0.26134001 0.26117235\n",
      " 0.26117235 0.2642633  0.26542512 0.26665205 0.26781559 0.26885173\n",
      " 0.26975504 0.27054918 0.2712675  0.27194414 0.27260849 0.27328357\n",
      " 0.27398413 0.27471709 0.27548245 0.27627498 0.27708641 0.27790678\n",
      " 0.27872655 0.27953741 0.28033343 0.28111058 0.28186759 0.2826046\n",
      " 0.28332344 0.28402668 0.28471705 0.28539714 0.28606924 0.28673488\n",
      " 0.28739488 0.28804949 0.28869852 0.28934136 0.28997725 0.29060543\n",
      " 0.29122522 0.29183605 0.29243764 0.29302987 0.29361278 0.29418659\n",
      " 0.29475155 0.29530805 0.29585624 0.29639667 0.29692939 0.29745466\n",
      " 0.29797256 0.2984831  0.29898646 0.29948252]\n",
      "21 day output [[0.29997128]]\n",
      "22 day input [0.26572323 0.26422041 0.26201628 0.26154039 0.25532874 0.25051972\n",
      " 0.23857232 0.23674389 0.22149029 0.23386349 0.23438948 0.23321227\n",
      " 0.2354665  0.23759549 0.24152786 0.24040075 0.23491547 0.24315592\n",
      " 0.23696932 0.24002505 0.23028178 0.23133375 0.22444584 0.22938009\n",
      " 0.22241703 0.22477145 0.2358422  0.23709455 0.23408892 0.23724483\n",
      " 0.2358422  0.23604258 0.24628679 0.25292423 0.26449593 0.26727614\n",
      " 0.25825924 0.25840952 0.26123982 0.26442079 0.26128992 0.25492799\n",
      " 0.25615529 0.25878522 0.25843456 0.26134001 0.26117235 0.26117235\n",
      " 0.2642633  0.26542512 0.26665205 0.26781559 0.26885173 0.26975504\n",
      " 0.27054918 0.2712675  0.27194414 0.27260849 0.27328357 0.27398413\n",
      " 0.27471709 0.27548245 0.27627498 0.27708641 0.27790678 0.27872655\n",
      " 0.27953741 0.28033343 0.28111058 0.28186759 0.2826046  0.28332344\n",
      " 0.28402668 0.28471705 0.28539714 0.28606924 0.28673488 0.28739488\n",
      " 0.28804949 0.28869852 0.28934136 0.28997725 0.29060543 0.29122522\n",
      " 0.29183605 0.29243764 0.29302987 0.29361278 0.29418659 0.29475155\n",
      " 0.29530805 0.29585624 0.29639667 0.29692939 0.29745466 0.29797256\n",
      " 0.2984831  0.29898646 0.29948252 0.29997128]\n",
      "22 day output [[0.3004529]]\n",
      "23 day input [0.26422041 0.26201628 0.26154039 0.25532874 0.25051972 0.23857232\n",
      " 0.23674389 0.22149029 0.23386349 0.23438948 0.23321227 0.2354665\n",
      " 0.23759549 0.24152786 0.24040075 0.23491547 0.24315592 0.23696932\n",
      " 0.24002505 0.23028178 0.23133375 0.22444584 0.22938009 0.22241703\n",
      " 0.22477145 0.2358422  0.23709455 0.23408892 0.23724483 0.2358422\n",
      " 0.23604258 0.24628679 0.25292423 0.26449593 0.26727614 0.25825924\n",
      " 0.25840952 0.26123982 0.26442079 0.26128992 0.25492799 0.25615529\n",
      " 0.25878522 0.25843456 0.26134001 0.26117235 0.26117235 0.2642633\n",
      " 0.26542512 0.26665205 0.26781559 0.26885173 0.26975504 0.27054918\n",
      " 0.2712675  0.27194414 0.27260849 0.27328357 0.27398413 0.27471709\n",
      " 0.27548245 0.27627498 0.27708641 0.27790678 0.27872655 0.27953741\n",
      " 0.28033343 0.28111058 0.28186759 0.2826046  0.28332344 0.28402668\n",
      " 0.28471705 0.28539714 0.28606924 0.28673488 0.28739488 0.28804949\n",
      " 0.28869852 0.28934136 0.28997725 0.29060543 0.29122522 0.29183605\n",
      " 0.29243764 0.29302987 0.29361278 0.29418659 0.29475155 0.29530805\n",
      " 0.29585624 0.29639667 0.29692939 0.29745466 0.29797256 0.2984831\n",
      " 0.29898646 0.29948252 0.29997128 0.30045289]\n",
      "23 day output [[0.30092728]]\n",
      "24 day input [0.26201628 0.26154039 0.25532874 0.25051972 0.23857232 0.23674389\n",
      " 0.22149029 0.23386349 0.23438948 0.23321227 0.2354665  0.23759549\n",
      " 0.24152786 0.24040075 0.23491547 0.24315592 0.23696932 0.24002505\n",
      " 0.23028178 0.23133375 0.22444584 0.22938009 0.22241703 0.22477145\n",
      " 0.2358422  0.23709455 0.23408892 0.23724483 0.2358422  0.23604258\n",
      " 0.24628679 0.25292423 0.26449593 0.26727614 0.25825924 0.25840952\n",
      " 0.26123982 0.26442079 0.26128992 0.25492799 0.25615529 0.25878522\n",
      " 0.25843456 0.26134001 0.26117235 0.26117235 0.2642633  0.26542512\n",
      " 0.26665205 0.26781559 0.26885173 0.26975504 0.27054918 0.2712675\n",
      " 0.27194414 0.27260849 0.27328357 0.27398413 0.27471709 0.27548245\n",
      " 0.27627498 0.27708641 0.27790678 0.27872655 0.27953741 0.28033343\n",
      " 0.28111058 0.28186759 0.2826046  0.28332344 0.28402668 0.28471705\n",
      " 0.28539714 0.28606924 0.28673488 0.28739488 0.28804949 0.28869852\n",
      " 0.28934136 0.28997725 0.29060543 0.29122522 0.29183605 0.29243764\n",
      " 0.29302987 0.29361278 0.29418659 0.29475155 0.29530805 0.29585624\n",
      " 0.29639667 0.29692939 0.29745466 0.29797256 0.2984831  0.29898646\n",
      " 0.29948252 0.29997128 0.30045289 0.30092728]\n",
      "24 day output [[0.30139458]]\n",
      "25 day input [0.26154039 0.25532874 0.25051972 0.23857232 0.23674389 0.22149029\n",
      " 0.23386349 0.23438948 0.23321227 0.2354665  0.23759549 0.24152786\n",
      " 0.24040075 0.23491547 0.24315592 0.23696932 0.24002505 0.23028178\n",
      " 0.23133375 0.22444584 0.22938009 0.22241703 0.22477145 0.2358422\n",
      " 0.23709455 0.23408892 0.23724483 0.2358422  0.23604258 0.24628679\n",
      " 0.25292423 0.26449593 0.26727614 0.25825924 0.25840952 0.26123982\n",
      " 0.26442079 0.26128992 0.25492799 0.25615529 0.25878522 0.25843456\n",
      " 0.26134001 0.26117235 0.26117235 0.2642633  0.26542512 0.26665205\n",
      " 0.26781559 0.26885173 0.26975504 0.27054918 0.2712675  0.27194414\n",
      " 0.27260849 0.27328357 0.27398413 0.27471709 0.27548245 0.27627498\n",
      " 0.27708641 0.27790678 0.27872655 0.27953741 0.28033343 0.28111058\n",
      " 0.28186759 0.2826046  0.28332344 0.28402668 0.28471705 0.28539714\n",
      " 0.28606924 0.28673488 0.28739488 0.28804949 0.28869852 0.28934136\n",
      " 0.28997725 0.29060543 0.29122522 0.29183605 0.29243764 0.29302987\n",
      " 0.29361278 0.29418659 0.29475155 0.29530805 0.29585624 0.29639667\n",
      " 0.29692939 0.29745466 0.29797256 0.2984831  0.29898646 0.29948252\n",
      " 0.29997128 0.30045289 0.30092728 0.30139458]\n",
      "25 day output [[0.30185464]]\n",
      "26 day input [0.25532874 0.25051972 0.23857232 0.23674389 0.22149029 0.23386349\n",
      " 0.23438948 0.23321227 0.2354665  0.23759549 0.24152786 0.24040075\n",
      " 0.23491547 0.24315592 0.23696932 0.24002505 0.23028178 0.23133375\n",
      " 0.22444584 0.22938009 0.22241703 0.22477145 0.2358422  0.23709455\n",
      " 0.23408892 0.23724483 0.2358422  0.23604258 0.24628679 0.25292423\n",
      " 0.26449593 0.26727614 0.25825924 0.25840952 0.26123982 0.26442079\n",
      " 0.26128992 0.25492799 0.25615529 0.25878522 0.25843456 0.26134001\n",
      " 0.26117235 0.26117235 0.2642633  0.26542512 0.26665205 0.26781559\n",
      " 0.26885173 0.26975504 0.27054918 0.2712675  0.27194414 0.27260849\n",
      " 0.27328357 0.27398413 0.27471709 0.27548245 0.27627498 0.27708641\n",
      " 0.27790678 0.27872655 0.27953741 0.28033343 0.28111058 0.28186759\n",
      " 0.2826046  0.28332344 0.28402668 0.28471705 0.28539714 0.28606924\n",
      " 0.28673488 0.28739488 0.28804949 0.28869852 0.28934136 0.28997725\n",
      " 0.29060543 0.29122522 0.29183605 0.29243764 0.29302987 0.29361278\n",
      " 0.29418659 0.29475155 0.29530805 0.29585624 0.29639667 0.29692939\n",
      " 0.29745466 0.29797256 0.2984831  0.29898646 0.29948252 0.29997128\n",
      " 0.30045289 0.30092728 0.30139458 0.30185464]\n",
      "26 day output [[0.3023078]]\n",
      "27 day input [0.25051972 0.23857232 0.23674389 0.22149029 0.23386349 0.23438948\n",
      " 0.23321227 0.2354665  0.23759549 0.24152786 0.24040075 0.23491547\n",
      " 0.24315592 0.23696932 0.24002505 0.23028178 0.23133375 0.22444584\n",
      " 0.22938009 0.22241703 0.22477145 0.2358422  0.23709455 0.23408892\n",
      " 0.23724483 0.2358422  0.23604258 0.24628679 0.25292423 0.26449593\n",
      " 0.26727614 0.25825924 0.25840952 0.26123982 0.26442079 0.26128992\n",
      " 0.25492799 0.25615529 0.25878522 0.25843456 0.26134001 0.26117235\n",
      " 0.26117235 0.2642633  0.26542512 0.26665205 0.26781559 0.26885173\n",
      " 0.26975504 0.27054918 0.2712675  0.27194414 0.27260849 0.27328357\n",
      " 0.27398413 0.27471709 0.27548245 0.27627498 0.27708641 0.27790678\n",
      " 0.27872655 0.27953741 0.28033343 0.28111058 0.28186759 0.2826046\n",
      " 0.28332344 0.28402668 0.28471705 0.28539714 0.28606924 0.28673488\n",
      " 0.28739488 0.28804949 0.28869852 0.28934136 0.28997725 0.29060543\n",
      " 0.29122522 0.29183605 0.29243764 0.29302987 0.29361278 0.29418659\n",
      " 0.29475155 0.29530805 0.29585624 0.29639667 0.29692939 0.29745466\n",
      " 0.29797256 0.2984831  0.29898646 0.29948252 0.29997128 0.30045289\n",
      " 0.30092728 0.30139458 0.30185464 0.30230781]\n",
      "27 day output [[0.30275393]]\n",
      "28 day input [0.23857232 0.23674389 0.22149029 0.23386349 0.23438948 0.23321227\n",
      " 0.2354665  0.23759549 0.24152786 0.24040075 0.23491547 0.24315592\n",
      " 0.23696932 0.24002505 0.23028178 0.23133375 0.22444584 0.22938009\n",
      " 0.22241703 0.22477145 0.2358422  0.23709455 0.23408892 0.23724483\n",
      " 0.2358422  0.23604258 0.24628679 0.25292423 0.26449593 0.26727614\n",
      " 0.25825924 0.25840952 0.26123982 0.26442079 0.26128992 0.25492799\n",
      " 0.25615529 0.25878522 0.25843456 0.26134001 0.26117235 0.26117235\n",
      " 0.2642633  0.26542512 0.26665205 0.26781559 0.26885173 0.26975504\n",
      " 0.27054918 0.2712675  0.27194414 0.27260849 0.27328357 0.27398413\n",
      " 0.27471709 0.27548245 0.27627498 0.27708641 0.27790678 0.27872655\n",
      " 0.27953741 0.28033343 0.28111058 0.28186759 0.2826046  0.28332344\n",
      " 0.28402668 0.28471705 0.28539714 0.28606924 0.28673488 0.28739488\n",
      " 0.28804949 0.28869852 0.28934136 0.28997725 0.29060543 0.29122522\n",
      " 0.29183605 0.29243764 0.29302987 0.29361278 0.29418659 0.29475155\n",
      " 0.29530805 0.29585624 0.29639667 0.29692939 0.29745466 0.29797256\n",
      " 0.2984831  0.29898646 0.29948252 0.29997128 0.30045289 0.30092728\n",
      " 0.30139458 0.30185464 0.30230781 0.30275393]\n",
      "28 day output [[0.30319333]]\n",
      "29 day input [0.23674389 0.22149029 0.23386349 0.23438948 0.23321227 0.2354665\n",
      " 0.23759549 0.24152786 0.24040075 0.23491547 0.24315592 0.23696932\n",
      " 0.24002505 0.23028178 0.23133375 0.22444584 0.22938009 0.22241703\n",
      " 0.22477145 0.2358422  0.23709455 0.23408892 0.23724483 0.2358422\n",
      " 0.23604258 0.24628679 0.25292423 0.26449593 0.26727614 0.25825924\n",
      " 0.25840952 0.26123982 0.26442079 0.26128992 0.25492799 0.25615529\n",
      " 0.25878522 0.25843456 0.26134001 0.26117235 0.26117235 0.2642633\n",
      " 0.26542512 0.26665205 0.26781559 0.26885173 0.26975504 0.27054918\n",
      " 0.2712675  0.27194414 0.27260849 0.27328357 0.27398413 0.27471709\n",
      " 0.27548245 0.27627498 0.27708641 0.27790678 0.27872655 0.27953741\n",
      " 0.28033343 0.28111058 0.28186759 0.2826046  0.28332344 0.28402668\n",
      " 0.28471705 0.28539714 0.28606924 0.28673488 0.28739488 0.28804949\n",
      " 0.28869852 0.28934136 0.28997725 0.29060543 0.29122522 0.29183605\n",
      " 0.29243764 0.29302987 0.29361278 0.29418659 0.29475155 0.29530805\n",
      " 0.29585624 0.29639667 0.29692939 0.29745466 0.29797256 0.2984831\n",
      " 0.29898646 0.29948252 0.29997128 0.30045289 0.30092728 0.30139458\n",
      " 0.30185464 0.30230781 0.30275393 0.30319333]\n",
      "29 day output [[0.3036259]]\n",
      "[[0.28804948925971985], [0.2886985242366791], [0.28934136033058167], [0.2899772524833679], [0.29060542583465576], [0.29122522473335266], [0.29183605313301086], [0.2924376428127289], [0.29302987456321716], [0.2936127781867981], [0.2941865921020508], [0.2947515547275543], [0.29530805349349976], [0.295856237411499], [0.2963966727256775], [0.29692938923835754], [0.2974546551704407], [0.29797255992889404], [0.29848310351371765], [0.2989864647388458], [0.299482524394989], [0.2999712824821472], [0.3004528880119324], [0.3009272813796997], [0.30139458179473877], [0.3018546402454376], [0.3023078143596649], [0.30275392532348633], [0.3031933307647705], [0.3036259114742279]]\n"
     ]
    }
   ],
   "source": [
    "# demonstrate prediction for next 10 days\n",
    "from numpy import array\n",
    "\n",
    "lst_output=[]\n",
    "n_steps=100\n",
    "i=0\n",
    "while(i<30):\n",
    "    \n",
    "    if(len(temp_input)>100):\n",
    "        #print(temp_input)\n",
    "        x_input=np.array(temp_input[1:])\n",
    "        print(\"{} day input {}\".format(i,x_input))\n",
    "        x_input=x_input.reshape(1,-1)\n",
    "        x_input = x_input.reshape((1, n_steps, 1))\n",
    "        #print(x_input)\n",
    "        yhat = model.predict(x_input, verbose=0)\n",
    "        print(\"{} day output {}\".format(i,yhat))\n",
    "        temp_input.extend(yhat[0].tolist())\n",
    "        temp_input=temp_input[1:]\n",
    "        #print(temp_input)\n",
    "        lst_output.extend(yhat.tolist())\n",
    "        i=i+1\n",
    "    else:\n",
    "        x_input = x_input.reshape((1, n_steps,1))\n",
    "        yhat = model.predict(x_input, verbose=0)\n",
    "        print(yhat[0])\n",
    "        temp_input.extend(yhat[0].tolist())\n",
    "        print(len(temp_input))\n",
    "        lst_output.extend(yhat.tolist())\n",
    "        i=i+1\n",
    "    \n",
    "\n",
    "print(lst_output)"
   ]
  },
  {
   "cell_type": "code",
   "execution_count": 115,
   "id": "fcd37cfa-03bb-451b-b280-61d83b78183b",
   "metadata": {},
   "outputs": [],
   "source": [
    "day_new=np.arange(1,101)\n",
    "day_pred=np.arange(101,131)"
   ]
  },
  {
   "cell_type": "code",
   "execution_count": 119,
   "id": "b0388082-fc09-43e2-acfb-fa08afeaf7a9",
   "metadata": {},
   "outputs": [],
   "source": [
    "import matplotlib.pyplot as plt"
   ]
  },
  {
   "cell_type": "code",
   "execution_count": 120,
   "id": "73849fd3-010f-497f-8377-5ad40886afef",
   "metadata": {},
   "outputs": [
    {
     "data": {
      "text/plain": [
       "1255"
      ]
     },
     "execution_count": 120,
     "metadata": {},
     "output_type": "execute_result"
    }
   ],
   "source": [
    "len(df1)"
   ]
  },
  {
   "cell_type": "code",
   "execution_count": 121,
   "id": "0db9ce70-5ee6-4ca1-82ba-4c66c69fcaa9",
   "metadata": {},
   "outputs": [
    {
     "data": {
      "text/plain": [
       "[<matplotlib.lines.Line2D at 0x1dfb7cd7580>]"
      ]
     },
     "execution_count": 121,
     "metadata": {},
     "output_type": "execute_result"
    },
    {
     "data": {
      "image/png": "[encoded data removed]",
      "text/plain": [
       "<Figure size 640x480 with 1 Axes>"
      ]
     },
     "metadata": {},
     "output_type": "display_data"
    }
   ],
   "source": [
    "plt.plot(day_new,scaler.inverse_transform(df1[1155:]))\n",
    "plt.plot(day_pred,scaler.inverse_transform(lst_output))"
   ]
  },
  {
   "cell_type": "code",
   "execution_count": 122,
   "id": "c6523de2-a777-4e47-8ebc-7b8c0057eace",
   "metadata": {},
   "outputs": [
    {
     "data": {
      "text/plain": [
       "[<matplotlib.lines.Line2D at 0x1dfb7b63f10>]"
      ]
     },
     "execution_count": 122,
     "metadata": {},
     "output_type": "execute_result"
    },
    {
     "data": {
      "image/png": "[encoded data removed]",
      "text/plain": [
       "<Figure size 640x480 with 1 Axes>"
      ]
     },
     "metadata": {},
     "output_type": "display_data"
    }
   ],
   "source": [
    "df3=df1.tolist()\n",
    "df3.extend(lst_output)\n",
    "plt.plot(df3[1200:])"
   ]
  },
  {
   "cell_type": "code",
   "execution_count": 123,
   "id": "cbf1eba0-f22e-4fbd-a1a8-8ae815761ef3",
   "metadata": {},
   "outputs": [],
   "source": [
    "df3=scaler.inverse_transform(df3).tolist()"
   ]
  },
  {
   "cell_type": "code",
   "execution_count": 126,
   "id": "f5d085bb-872c-449c-acfb-653d18cddb31",
   "metadata": {},
   "outputs": [
    {
     "data": {
      "text/plain": [
       "[<matplotlib.lines.Line2D at 0x1dfb91e9ba0>]"
      ]
     },
     "execution_count": 126,
     "metadata": {},
     "output_type": "execute_result"
    }
   ],
   "source": [
    "plt.plot(df3)"
   ]
  },
  {
   "cell_type": "code",
   "execution_count": null,
   "id": "5fe3d7e5-efb1-4b8b-b805-024dd5c55645",
   "metadata": {},
   "outputs": [],
   "source": []
  },
  {
   "cell_type": "code",
   "execution_count": null,
   "id": "1a961a7d-7a10-4836-a51b-70d654d475cb",
   "metadata": {},
   "outputs": [],
   "source": []
  }
 ],
 "metadata": {
  "kernelspec": {
   "display_name": "Python (venv)",
   "language": "python",
   "name": "venv"
  },
  "language_info": {
   "codemirror_mode": {
    "name": "ipython",
    "version": 3
   },
   "file_extension": ".py",
   "mimetype": "text/x-python",
   "name": "python",
   "nbconvert_exporter": "python",
   "pygments_lexer": "ipython3",
   "version": "3.10.11"
  }
 },
 "nbformat": 4,
 "nbformat_minor": 5
}
